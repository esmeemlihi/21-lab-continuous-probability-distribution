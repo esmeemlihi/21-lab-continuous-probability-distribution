{
 "cells": [
  {
   "cell_type": "markdown",
   "metadata": {},
   "source": [
    "# Before your start:\n",
    "\n",
    "    Read the README.md file\n",
    "    Comment as much as you can and use the resources (README.md file)\n",
    "    Happy learning!"
   ]
  },
  {
   "cell_type": "markdown",
   "metadata": {},
   "source": [
    "In this exercise, we  will generate random numbers from the continuous disributions we learned in the lesson. There are two ways to generate random numbers:\n",
    "\n",
    "1. Using the numpy library \n",
    "1. using the Scipy library \n",
    "\n",
    "Use either or both of the lbraries in this exercise."
   ]
  },
  {
   "cell_type": "markdown",
   "metadata": {},
   "source": [
    "## Uniform Distribution\n",
    "\n",
    "To generate uniform random numbers between any two given values using scipy, we can either use the following code or the code that we have\n",
    "discussed in class:"
   ]
  },
  {
   "cell_type": "code",
   "execution_count": 1,
   "metadata": {},
   "outputs": [
    {
     "name": "stdout",
     "output_type": "stream",
     "text": [
      "[2.88012698 2.89151903 2.52865592 2.78930139 2.80922469 2.56183834\n",
      " 2.01660357 2.95919359 2.05228987 2.7308501 ]\n"
     ]
    }
   ],
   "source": [
    "from scipy.stats import uniform\n",
    "x = uniform.rvs(size=10)\n",
    "a = 2\n",
    "b = 3\n",
    "randoms  = a + (b-a)*x\n",
    "print(randoms)"
   ]
  },
  {
   "cell_type": "markdown",
   "metadata": {},
   "source": [
    "**Your task:**\n",
    "\n",
    "1. Based on the code above, write a function that generates uniformly distributed random numbers. There are several requirements for your function:\n",
    "    * It should accept 3 parameters: \n",
    "        * `bottom` - the lower boundary of the generated numbers\n",
    "        * `ceiling` - the upper boundary of the generated numbers\n",
    "        * `count` - how many numbers to generate\n",
    "    * It should return an array of uniformly distributed random numbers\n",
    "\n",
    "1. Call your function with 2 sets of params below:\n",
    "    * bottom=10, ceiling=15, count=100\n",
    "    * bottom=10, ceiling=60, count=1,000\n",
    "\n",
    "1. Plot the uniform distributions generated above using histograms, where x axis is the value and y axis is the count. Let the histogram's number of bins be 10.\n",
    "\n",
    "Your output should look like below:\n",
    "\n",
    "![uniform distribution](ud.png)"
   ]
  },
  {
   "cell_type": "code",
   "execution_count": 6,
   "metadata": {},
   "outputs": [],
   "source": [
    "# your code here\n",
    "\n",
    "def uniformly_distributed_random_numbers (bottom, ceiling, count):\n",
    "    from scipy.stats import uniform\n",
    "    x = uniform.rvs(size=count)\n",
    "    a = bottom\n",
    "    b = ceiling\n",
    "    randoms  = a + (b-a)*x\n",
    "    return(randoms)\n"
   ]
  },
  {
   "cell_type": "code",
   "execution_count": 30,
   "metadata": {},
   "outputs": [],
   "source": [
    "y1 = uniformly_distributed_random_numbers(10,15,100)\n",
    "y2 = uniformly_distributed_random_numbers(10,60,1000)"
   ]
  },
  {
   "cell_type": "code",
   "execution_count": 11,
   "metadata": {},
   "outputs": [
    {
     "data": {
      "text/plain": [
       "array([13.31949342, 13.16206236, 11.61624302, 10.89971503, 11.23783352,\n",
       "       12.83206128, 14.15737341, 11.69446492, 14.09503048, 13.71378274,\n",
       "       10.30842288, 14.51819286, 13.6688443 , 14.99931171, 13.40999861,\n",
       "       10.0614425 , 10.56325898, 12.56895709, 11.72579081, 14.67558979,\n",
       "       12.9357716 , 11.43364772, 10.22505119, 10.29695765, 12.75566535,\n",
       "       13.13799389, 10.75876581, 10.01143748, 14.10191485, 12.93625999,\n",
       "       13.8220731 , 11.39302565, 12.02699739, 12.03902035, 11.57237657,\n",
       "       12.49030484, 14.13979372, 13.33669974, 10.7480503 , 11.29184248,\n",
       "       14.95180096, 14.50579886, 13.79207002, 13.31952049, 12.128554  ,\n",
       "       11.17422423, 11.38998532, 13.04728576, 13.27497084, 10.97063579,\n",
       "       12.42234715, 12.02366074, 12.26174361, 10.99529189, 11.76890719,\n",
       "       11.53573309, 14.720503  , 10.9189424 , 12.74470715, 10.16927434,\n",
       "       12.04714367, 11.9034743 , 12.47975656, 10.65330295, 10.32675209,\n",
       "       11.17956587, 12.01474528, 14.24820968, 14.39806812, 13.11907825,\n",
       "       13.39788304, 11.94121123, 11.70398218, 14.8290837 , 12.78326804,\n",
       "       13.84774203, 13.09004005, 13.58309863, 12.32983102, 11.87765946,\n",
       "       14.35835923, 12.00109836, 14.62037932, 13.63342853, 11.57186457,\n",
       "       11.39408628, 12.15999072, 12.05196672, 14.70168569, 13.11366973,\n",
       "       12.03707002, 10.6031337 , 14.98976275, 12.01127365, 10.54458288,\n",
       "       10.87205214, 13.30402752, 12.76425506, 12.00304702, 10.04522332])"
      ]
     },
     "execution_count": 11,
     "metadata": {},
     "output_type": "execute_result"
    }
   ],
   "source": [
    "set_1"
   ]
  },
  {
   "cell_type": "code",
   "execution_count": 32,
   "metadata": {},
   "outputs": [
    {
     "data": {
      "image/png": "[encoded data removed]",
      "text/plain": [
       "<Figure size 432x288 with 2 Axes>"
      ]
     },
     "metadata": {
      "needs_background": "light"
     },
     "output_type": "display_data"
    }
   ],
   "source": [
    "import matplotlib.style\n",
    "import matplotlib as mpl\n",
    "import matplotlib.pyplot as plt\n",
    "fig, [set_1, set_2] = plt.subplots(1,2)\n",
    "\n",
    "set_1.hist(y1, bins=10)\n",
    "set_1.set_title('set_1')   \n",
    "set_1.set_xlabel('x label')     \n",
    "set_1.set_ylabel('y label')\n",
    "\n",
    "set_2.hist(y2, bins=10) \n",
    "set_2.set_title('bin_20 PLOT')   \n",
    "set_2.set_xlabel('x label')     \n",
    "set_2.set_ylabel('y label')\n",
    "\n",
    "plt.show()"
   ]
  },
  {
   "cell_type": "markdown",
   "metadata": {},
   "source": [
    "How are the two distributions different?"
   ]
  },
  {
   "cell_type": "code",
   "execution_count": null,
   "metadata": {},
   "outputs": [],
   "source": [
    "# your answer below\n",
    "\n",
    "\"\"\"\n",
    "\n",
    "Set_1 the distribution is very different. The bins vary a lot \\\n",
    "\n",
    "Set_2 the bins are almost all the same. This can be explained by the amound of random genartions. \n",
    "\n",
    "in set_2 there are over 1000 random generated numbers \n",
    "\n",
    "in set_1 there are only 100. If thise would be also 1000 the subplots of set 1 and 3 would be qiet simular. \n",
    "\n",
    "\"\"\""
   ]
  },
  {
   "cell_type": "markdown",
   "metadata": {},
   "source": [
    "## Normal Distribution\n",
    "\n",
    "1. In the same way in the Uniform Distribution challenge, write a function that generates normally distributed random numbers.\n",
    "1. Generate 1,000 normally distributed numbers with the average of 10 and standard deviation of 1\n",
    "1. Generate 1,000 normally distributed numbers with the average of 10 and standard deviation of 50\n",
    "2. Plot the distributions of the data generated.\n",
    "\n",
    "Expected output:\n",
    "\n",
    "![normal distribution](nd.png)"
   ]
  },
  {
   "cell_type": "code",
   "execution_count": 35,
   "metadata": {},
   "outputs": [
    {
     "data": {
      "text/plain": [
       "array([0.90725321, 0.98182726, 0.98147684, 1.06717339, 0.84447412,\n",
       "       1.11649784, 0.99490388, 0.93287421, 0.94160335, 0.99040156,\n",
       "       1.07770928, 1.05773825, 1.13285617, 0.97514232, 1.00649909,\n",
       "       0.88612026, 0.91787075, 0.91007379, 0.9814021 , 1.18952441])"
      ]
     },
     "execution_count": 35,
     "metadata": {},
     "output_type": "execute_result"
    }
   ],
   "source": [
    "from scipy.stats import norm\n",
    "import numpy as np \n",
    "mu, sigma = 10, 1 # mean and standard deviation\n",
    "s = np.random.normal(mu, sigma, 20)\n",
    "s"
   ]
  },
  {
   "cell_type": "code",
   "execution_count": 38,
   "metadata": {},
   "outputs": [
    {
     "data": {
      "text/plain": [
       "array([ 9.1275591 , 11.15864149, 10.25760904,  9.5038906 , 10.38923734,\n",
       "        9.36270721, 10.46825543,  8.83319038,  8.67290444,  9.50117209,\n",
       "       10.2753169 ,  9.99044287, 12.99094341,  8.95628245, 10.8994718 ,\n",
       "        9.55137981,  8.41947823, 10.85574051,  8.69469873,  9.50149548])"
      ]
     },
     "execution_count": 38,
     "metadata": {},
     "output_type": "execute_result"
    }
   ],
   "source": [
    "# your code here\n",
    "def normal_distributed_random_numbers (mu, sigma, count):\n",
    "    from scipy.stats import norm\n",
    "    import numpy as np \n",
    "    s = np.random.normal(mu, sigma, count)\n",
    "    return(s)\n",
    "\n",
    "\n",
    "normal_distributed_random_numbers (10, 1, 20)\n",
    "\n"
   ]
  },
  {
   "cell_type": "code",
   "execution_count": 56,
   "metadata": {},
   "outputs": [
    {
     "data": {
      "image/png": "[encoded data removed]",
      "text/plain": [
       "<Figure size 432x288 with 2 Axes>"
      ]
     },
     "metadata": {
      "needs_background": "light"
     },
     "output_type": "display_data"
    }
   ],
   "source": [
    "y3 = normal_distributed_random_numbers (10, 1, 1000)\n",
    "y4 = normal_distributed_random_numbers (10, 50, 1000)\n",
    "\n",
    "\n",
    "fig2, [set_3, set_4] = plt.subplots(1,2)\n",
    "\n",
    "set_3.hist(y3, bins=50)\n",
    "set_3.set_title('sd is 1')   \n",
    "set_3.set_xlabel('x label')     \n",
    "set_3.set_ylabel('y label')\n",
    "\n",
    "set_4.hist(y4, bins=50) \n",
    "set_4.set_title('sd is 50')   \n",
    "set_4.set_xlabel('x label')     \n",
    "set_4.set_ylabel('y label')\n",
    "\n",
    "plt.show()\n"
   ]
  },
  {
   "cell_type": "markdown",
   "metadata": {},
   "source": [
    "How are the two distributions different?"
   ]
  },
  {
   "cell_type": "code",
   "execution_count": null,
   "metadata": {},
   "outputs": [],
   "source": [
    "# your answer below\n",
    "\n",
    "\"\"\"\n",
    "It is surprising that the shape of both graphs where the standard deviation (sd) is 1 or 50, is qiet the same\n",
    "Sometime after generating the radom normal distributed numbers the sd1 stable is more smooth and somtimes this is the \n",
    "cas with sd 50 or with both or neither of them \n",
    "\n",
    "I actualy expected that sd 50 would be always the less smooth one. \n",
    "\n",
    "\"\"\""
   ]
  },
  {
   "cell_type": "markdown",
   "metadata": {},
   "source": [
    "## Normal Distribution of Real Data\n",
    "\n",
    "In this challenge we are going to take a look the real data. We will use vehicles.csv file for this exercise"
   ]
  },
  {
   "cell_type": "markdown",
   "metadata": {},
   "source": [
    "First import vehicles.csv.\n",
    "Then plot the histograms for the following variables:\n",
    "\n",
    "1. Fuel Barrels/Year"
   ]
  },
  {
   "cell_type": "code",
   "execution_count": 91,
   "metadata": {},
   "outputs": [
    {
     "data": {
      "text/html": [
       "<div>\n",
       "<style scoped>\n",
       "    .dataframe tbody tr th:only-of-type {\n",
       "        vertical-align: middle;\n",
       "    }\n",
       "\n",
       "    .dataframe tbody tr th {\n",
       "        vertical-align: top;\n",
       "    }\n",
       "\n",
       "    .dataframe thead th {\n",
       "        text-align: right;\n",
       "    }\n",
       "</style>\n",
       "<table border=\"1\" class=\"dataframe\">\n",
       "  <thead>\n",
       "    <tr style=\"text-align: right;\">\n",
       "      <th></th>\n",
       "      <th>Make</th>\n",
       "      <th>Model</th>\n",
       "      <th>Year</th>\n",
       "      <th>Engine Displacement</th>\n",
       "      <th>Cylinders</th>\n",
       "      <th>Transmission</th>\n",
       "      <th>Drivetrain</th>\n",
       "      <th>Vehicle Class</th>\n",
       "      <th>Fuel Type</th>\n",
       "      <th>Fuel Barrels/Year</th>\n",
       "      <th>City MPG</th>\n",
       "      <th>Highway MPG</th>\n",
       "      <th>Combined MPG</th>\n",
       "      <th>CO2 Emission Grams/Mile</th>\n",
       "      <th>Fuel Cost/Year</th>\n",
       "    </tr>\n",
       "  </thead>\n",
       "  <tbody>\n",
       "    <tr>\n",
       "      <td>0</td>\n",
       "      <td>AM General</td>\n",
       "      <td>DJ Po Vehicle 2WD</td>\n",
       "      <td>1984</td>\n",
       "      <td>2.5</td>\n",
       "      <td>4.0</td>\n",
       "      <td>Automatic 3-spd</td>\n",
       "      <td>2-Wheel Drive</td>\n",
       "      <td>Special Purpose Vehicle 2WD</td>\n",
       "      <td>Regular</td>\n",
       "      <td>19.388824</td>\n",
       "      <td>18</td>\n",
       "      <td>17</td>\n",
       "      <td>17</td>\n",
       "      <td>522.764706</td>\n",
       "      <td>1950</td>\n",
       "    </tr>\n",
       "    <tr>\n",
       "      <td>1</td>\n",
       "      <td>AM General</td>\n",
       "      <td>FJ8c Post Office</td>\n",
       "      <td>1984</td>\n",
       "      <td>4.2</td>\n",
       "      <td>6.0</td>\n",
       "      <td>Automatic 3-spd</td>\n",
       "      <td>2-Wheel Drive</td>\n",
       "      <td>Special Purpose Vehicle 2WD</td>\n",
       "      <td>Regular</td>\n",
       "      <td>25.354615</td>\n",
       "      <td>13</td>\n",
       "      <td>13</td>\n",
       "      <td>13</td>\n",
       "      <td>683.615385</td>\n",
       "      <td>2550</td>\n",
       "    </tr>\n",
       "  </tbody>\n",
       "</table>\n",
       "</div>"
      ],
      "text/plain": [
       "         Make              Model  Year  Engine Displacement  Cylinders  \\\n",
       "0  AM General  DJ Po Vehicle 2WD  1984                  2.5        4.0   \n",
       "1  AM General   FJ8c Post Office  1984                  4.2        6.0   \n",
       "\n",
       "      Transmission     Drivetrain                Vehicle Class Fuel Type  \\\n",
       "0  Automatic 3-spd  2-Wheel Drive  Special Purpose Vehicle 2WD   Regular   \n",
       "1  Automatic 3-spd  2-Wheel Drive  Special Purpose Vehicle 2WD   Regular   \n",
       "\n",
       "   Fuel Barrels/Year  City MPG  Highway MPG  Combined MPG  \\\n",
       "0          19.388824        18           17            17   \n",
       "1          25.354615        13           13            13   \n",
       "\n",
       "   CO2 Emission Grams/Mile  Fuel Cost/Year  \n",
       "0               522.764706            1950  \n",
       "1               683.615385            2550  "
      ]
     },
     "execution_count": 91,
     "metadata": {},
     "output_type": "execute_result"
    }
   ],
   "source": [
    "# your code here\n",
    "import numpy as np \n",
    "import pandas as pd \n",
    "vehicles= pd.read_csv('vehicles.csv')\n",
    "vehicles.head(2)"
   ]
  },
  {
   "cell_type": "code",
   "execution_count": 97,
   "metadata": {},
   "outputs": [
    {
     "data": {
      "image/png": "[encoded data removed]",
      "text/plain": [
       "<Figure size 432x288 with 1 Axes>"
      ]
     },
     "metadata": {
      "needs_background": "light"
     },
     "output_type": "display_data"
    }
   ],
   "source": [
    "vehicles.hist(\"Fuel Barrels/Year\", bins = 50)\n",
    "plt.show()"
   ]
  },
  {
   "cell_type": "code",
   "execution_count": 92,
   "metadata": {},
   "outputs": [
    {
     "data": {
      "image/png": "[encoded data removed]",
      "text/plain": [
       "<Figure size 360x360 with 1 Axes>"
      ]
     },
     "metadata": {
      "needs_background": "light"
     },
     "output_type": "display_data"
    }
   ],
   "source": [
    "\n",
    "# i red the excersise rong --> not a barplot but a histogram \n",
    "\n",
    "import matplotlib.pyplot as plt\n",
    "import seaborn as sns\n",
    "%matplotlib inline\n",
    "\n",
    "\n",
    "plt.figure(figsize=(5, 5))\n",
    "ax = sns.barplot(x= \"Fuel Barrels/Year\", y= \"Fuel Barrels/Year\", palette=\"vlag_r\", data=vehicles)\n",
    "#ax.invert_yaxis()"
   ]
  },
  {
   "cell_type": "markdown",
   "metadata": {},
   "source": [
    "2. CO2 Emission Grams/Mile "
   ]
  },
  {
   "cell_type": "code",
   "execution_count": 99,
   "metadata": {},
   "outputs": [
    {
     "data": {
      "image/png": "[encoded data removed]",
      "text/plain": [
       "<Figure size 432x288 with 1 Axes>"
      ]
     },
     "metadata": {
      "needs_background": "light"
     },
     "output_type": "display_data"
    }
   ],
   "source": [
    "# your code here\n",
    "vehicles.hist(\"CO2 Emission Grams/Mile\", bins = 50)\n",
    "plt.show()"
   ]
  },
  {
   "cell_type": "markdown",
   "metadata": {},
   "source": [
    "3. Combined MPG"
   ]
  },
  {
   "cell_type": "code",
   "execution_count": 98,
   "metadata": {},
   "outputs": [
    {
     "data": {
      "image/png": "[encoded data removed]",
      "text/plain": [
       "<Figure size 432x288 with 1 Axes>"
      ]
     },
     "metadata": {
      "needs_background": "light"
     },
     "output_type": "display_data"
    }
   ],
   "source": [
    "# your code here\n",
    "vehicles.hist(\"Combined MPG\", bins = 50)\n",
    "plt.show()"
   ]
  },
  {
   "cell_type": "markdown",
   "metadata": {},
   "source": [
    "Which one(s) of the variables are nearly normally distributed? How do you know?"
   ]
  },
  {
   "cell_type": "code",
   "execution_count": null,
   "metadata": {},
   "outputs": [],
   "source": [
    "# your answer here\n",
    "\n",
    "\"\"\"\n",
    "Looking at the plots, most nomal ditributed graph is the Combined MPG.\n",
    "This becomes more visible with a bin size bigger that 50. \n",
    "\"\"\"\n"
   ]
  },
  {
   "cell_type": "markdown",
   "metadata": {},
   "source": [
    "## Exponential Distribution"
   ]
  },
  {
   "cell_type": "markdown",
   "metadata": {},
   "source": [
    "1. Using `numpy.random.exponential`, create a function that returns a list of numbers exponentially distributed with the mean of 10. \n",
    "\n",
    "1. Use the function to generate two number sequences with the size of 1 and 100.\n",
    "\n",
    "1. Plot the distributions as histograms with the nubmer of bins as 100.\n",
    "\n",
    "Your output should look like below:\n",
    "\n",
    "![exponential distribution](ed.png)"
   ]
  },
  {
   "cell_type": "code",
   "execution_count": 114,
   "metadata": {},
   "outputs": [],
   "source": [
    "# your code here\n",
    "\n",
    "def numpy_random_exponential (mean, count):\n",
    "    return np.random.exponential(mean, count)"
   ]
  },
  {
   "cell_type": "code",
   "execution_count": 130,
   "metadata": {},
   "outputs": [
    {
     "data": {
      "image/png": "[encoded data removed]",
      "text/plain": [
       "<Figure size 432x288 with 2 Axes>"
      ]
     },
     "metadata": {
      "needs_background": "light"
     },
     "output_type": "display_data"
    }
   ],
   "source": [
    "y5 = numpy_random_exponential (1, 1000)\n",
    "y6 = numpy_random_exponential (100, 1000)\n",
    "\n",
    "fig3, [set_5, set_6] = plt.subplots(1,2)\n",
    "\n",
    "set_5.hist(y5, bins=100)\n",
    "set_5.set_title('exp 1-1000')   \n",
    "set_5.set_xlabel('x label')     \n",
    "set_5.set_ylabel('y label')\n",
    "\n",
    "set_6.hist(y6, bins=100) \n",
    "set_6.set_title('exp 100-1000')   \n",
    "set_6.set_xlabel('x label')     \n",
    "set_6.set_ylabel('y label')\n",
    "\n",
    "plt.show()\n"
   ]
  },
  {
   "cell_type": "markdown",
   "metadata": {},
   "source": [
    "How are the two distributions different?"
   ]
  },
  {
   "cell_type": "code",
   "execution_count": 119,
   "metadata": {},
   "outputs": [],
   "source": [
    "# your answer here\n",
    "\n",
    "\"\"\"\n",
    "They look the same\n",
    "Only the x as is different, because the mean is different ( higher with an higher mean)\n",
    "Also the y as of exp 100-1000 is different every time. Depending on the random exp generated numbers \n",
    "\n",
    "\"\"\"\n",
    "\n"
   ]
  },
  {
   "cell_type": "markdown",
   "metadata": {},
   "source": [
    "## Exponential Distribution of Real Data\n",
    "\n",
    "Suppose that the amount of time one spends in a bank is exponentially distributed with mean as 10 minutes (i.e. λ = 1/10). What is the probability that a customer will spend less than fifteen minutes in the bank? \n",
    "\n",
    "Write a code in python to solve this problem"
   ]
  },
  {
   "cell_type": "code",
   "execution_count": 166,
   "metadata": {},
   "outputs": [
    {
     "data": {
      "text/plain": [
       "array([2.40594012e+01, 1.63279426e+01, 2.39241373e+00, 4.21400418e+00,\n",
       "       5.26637384e+00, 7.29248722e+00, 1.80502086e+01, 2.73907305e+00,\n",
       "       6.26181542e+00, 1.51774176e+01, 3.66573221e+00, 1.27964496e+01,\n",
       "       2.71458047e-01, 9.95850580e+00, 7.44341327e+00, 2.85213899e-01,\n",
       "       1.37834076e+00, 3.99705155e+00, 2.26462943e+00, 4.18973810e-01,\n",
       "       1.52185546e+01, 3.12653741e+00, 6.22471474e+00, 4.67999189e+00,\n",
       "       1.89117985e+00, 2.30477077e+01, 5.39888521e+00, 6.20745449e+00,\n",
       "       9.43614377e+00, 3.85726203e+00, 9.71241348e+00, 5.58749600e+00,\n",
       "       4.72354227e+01, 1.71963481e+00, 2.56201208e+00, 6.28491360e+00,\n",
       "       2.16505846e+01, 2.48480406e+01, 1.67334280e+01, 2.01014079e+01,\n",
       "       5.62956592e+00, 4.02510381e+00, 8.81223847e+00, 1.70733083e+01,\n",
       "       2.64492548e+00, 1.44577795e+01, 3.78290880e+00, 1.46041784e+01,\n",
       "       8.11885905e+00, 1.16872915e+01, 9.25089800e+00, 1.08524397e+00,\n",
       "       3.79966824e+00, 2.28019421e+00, 2.05324470e+01, 1.59400800e+00,\n",
       "       2.66384363e+00, 1.30672685e+00, 3.64568009e+01, 1.96485943e+01,\n",
       "       5.58870458e+00, 3.29748902e+01, 5.30985967e+00, 4.67078594e+00,\n",
       "       1.45170133e+01, 2.75092272e+00, 1.20428729e+01, 1.45781982e+01,\n",
       "       4.54092814e-01, 1.25628008e+01, 2.50699067e+01, 4.85707232e+00,\n",
       "       1.18116206e+01, 4.87825006e+00, 2.18263719e+01, 1.73838176e+01,\n",
       "       1.73282563e+00, 2.38319417e+00, 8.27987262e+00, 5.28637505e+00,\n",
       "       3.11801928e+01, 3.61224242e+01, 2.24236246e+01, 7.59520854e+00,\n",
       "       1.16427398e+01, 1.39479277e+01, 1.04644359e+01, 5.25289702e-01,\n",
       "       6.06058424e+00, 1.62476720e+01, 4.58482367e+00, 1.62681328e+00,\n",
       "       2.45969242e+01, 9.90032073e+00, 2.15864143e+00, 1.07771271e+01,\n",
       "       1.02241128e+00, 7.96088964e+00, 3.53311140e+00, 4.28933374e+00,\n",
       "       9.55224647e+00, 4.74793406e+00, 2.25026255e+01, 3.28305598e+00,\n",
       "       4.37362983e+00, 4.84916664e+00, 9.46812783e-01, 1.09254351e+01,\n",
       "       3.14763480e+01, 2.23904792e+01, 1.85429547e+01, 1.46709725e+01,\n",
       "       1.02540332e+01, 1.58273687e+01, 3.81194832e+00, 2.35312727e+01,\n",
       "       1.63049105e+01, 2.05579554e+00, 2.56581528e+00, 3.08565496e+00,\n",
       "       1.38252322e+01, 5.08600195e+00, 7.97399801e+00, 6.43720163e+00,\n",
       "       3.62085261e+01, 2.75006251e+00, 5.70623835e+00, 9.54436186e+00,\n",
       "       1.66803243e+01, 6.52883549e+00, 1.50210626e+01, 7.22705870e+00,\n",
       "       4.27631917e+00, 1.36185392e+00, 6.31667784e+00, 1.15166595e+01,\n",
       "       6.91399586e-01, 2.46694869e+00, 7.64024337e-01, 3.81621899e+00,\n",
       "       2.04265015e+01, 1.54833305e+00, 1.17596340e+01, 5.94669373e+00,\n",
       "       2.66326374e+01, 2.90020838e+00, 4.44446155e+00, 1.95118280e+00,\n",
       "       3.83332943e+00, 2.17883308e+00, 4.53700321e+00, 9.73126989e+00,\n",
       "       7.73108593e+00, 7.62260118e+00, 1.41500656e+01, 4.90391279e+00,\n",
       "       3.08690918e+00, 7.58179260e+00, 1.15380523e+01, 4.47946910e+00,\n",
       "       3.86483991e+01, 3.25526532e+01, 1.55718839e+01, 1.62726088e+00,\n",
       "       2.81083142e+00, 1.54580046e+01, 1.99290074e+01, 2.80298797e+01,\n",
       "       3.02687792e+01, 1.11713303e+01, 1.18563883e+01, 2.46590639e+01,\n",
       "       2.64107999e+01, 1.71732857e+01, 2.12751163e+00, 1.31386625e+01,\n",
       "       3.53524142e+00, 6.16995004e-01, 1.26843250e+01, 5.46348289e-02,\n",
       "       1.44273017e+01, 9.22517655e+00, 1.46420662e-02, 2.05781155e+00,\n",
       "       2.06065047e+00, 8.73672321e+00, 2.06177455e+01, 3.03342638e+01,\n",
       "       1.60083768e+01, 1.16115055e+01, 6.79681281e+00, 1.15525163e-01,\n",
       "       4.25374530e+00, 2.87364123e+01, 2.09967368e+00, 2.53583645e+00,\n",
       "       1.10743317e+01, 1.59222986e+01, 2.19411436e+01, 1.21076262e-01,\n",
       "       7.52587274e+00, 5.34426663e+00, 3.27496072e+00, 2.30485492e+01,\n",
       "       1.33195305e-01, 1.28708287e+01, 1.31102696e+01, 3.09964924e+01,\n",
       "       1.50009224e+01, 1.95113577e+00, 1.12588761e+01, 1.39327486e+00,\n",
       "       8.30377688e+00, 2.75431065e+01, 9.75124731e+00, 3.79338219e+01,\n",
       "       1.10533088e+01, 2.74079334e+00, 1.87842079e+01, 9.67762304e+00,\n",
       "       3.46941714e+00, 7.44797558e-02, 1.41068608e+01, 2.39420916e+00,\n",
       "       1.96408847e+00, 5.42108263e+01, 5.66339784e+00, 1.02711665e+00,\n",
       "       2.38588399e+00, 7.97282201e+00, 1.10727112e+01, 1.15236864e+00,\n",
       "       1.37398151e+00, 1.07296486e+01, 3.02080023e+00, 5.78657479e+00,\n",
       "       3.97018744e+01, 2.77012937e+01, 3.27630938e+01, 3.48456199e+01,\n",
       "       1.63093969e+00, 3.91553533e+00, 3.79851322e-01, 1.72143481e+00,\n",
       "       2.21171612e+00, 1.16202741e+01, 3.78609820e+00, 1.36649920e+00,\n",
       "       4.13484987e+00, 1.09438429e+01, 1.03283344e+01, 1.32307503e+01,\n",
       "       1.91305138e+00, 5.96931772e+00, 1.22583015e+01, 4.60807210e+00,\n",
       "       1.41745338e+00, 1.08649174e+00, 3.67456512e+01, 6.70450665e+00,\n",
       "       2.25420131e+00, 2.75482940e+01, 1.42062729e+00, 1.37203393e+01,\n",
       "       1.89182036e+01, 7.31788470e+00, 2.09800135e+00, 7.90487637e+00,\n",
       "       1.58299526e+01, 2.73633276e-01, 2.70318839e-02, 1.67328283e+01,\n",
       "       8.47484622e+00, 1.66699332e-02, 3.08661685e+01, 1.45676920e+01,\n",
       "       3.78134391e+00, 1.27288298e-01, 6.58902312e+00, 1.12413096e+00,\n",
       "       3.29546053e+01, 8.18692198e+00, 7.44843057e+00, 2.21797400e-01,\n",
       "       6.90012554e+00, 3.37646052e+00, 1.61382677e+01, 4.44860933e+01,\n",
       "       1.45187954e+01, 1.38288528e+01, 1.28828571e+01, 8.58773595e+00,\n",
       "       8.24916252e+00, 3.76238072e+00, 1.78820233e+01, 1.59467529e+00,\n",
       "       4.15766212e+00, 1.68534114e+01, 1.12009146e+00, 1.22713976e+01,\n",
       "       3.94107319e+00, 3.32396139e+01, 7.05365677e+00, 4.65175937e+00,\n",
       "       5.37881561e+00, 1.35324601e+01, 1.83613774e+01, 8.06085315e-01,\n",
       "       4.17146673e+01, 2.76745231e+01, 3.67032938e+00, 1.22181892e+01,\n",
       "       1.22079292e+01, 1.85471816e+01, 5.94525331e+00, 8.17167881e-01,\n",
       "       3.34457075e+00, 9.74379316e+00, 1.02299950e+01, 2.70172692e+00,\n",
       "       2.86741519e+00, 6.43780128e+00, 8.76970659e+00, 4.67700907e+00,\n",
       "       1.47744021e+01, 2.64485238e+01, 1.51950565e+01, 1.82926197e+01,\n",
       "       1.59573779e+01, 1.60456650e+01, 5.63857422e+00, 6.41413447e+00,\n",
       "       9.56931847e+00, 2.82036051e+00, 7.84522669e-02, 2.26424403e+00,\n",
       "       5.19100350e+00, 2.34585550e+00, 7.74315053e+00, 3.97059485e+00,\n",
       "       2.09530880e+01, 7.93400786e-01, 3.54702222e+00, 8.12218113e+00,\n",
       "       2.47417948e+00, 5.04242643e+00, 5.05806375e+00, 2.46384085e+00,\n",
       "       5.28152331e+00, 9.54378875e+00, 2.82237772e+01, 7.90063771e+00,\n",
       "       5.22983911e+00, 1.68132716e+01, 7.45872090e-01, 2.31942380e+01,\n",
       "       2.38243432e+01, 9.69273667e+00, 2.12505545e+00, 1.77854926e+01,\n",
       "       2.21944933e-01, 1.86122639e+00, 5.12829193e+00, 1.11726503e+00,\n",
       "       3.14781255e+00, 1.43971828e+00, 9.41890590e+00, 2.17532250e+01,\n",
       "       6.95492149e+00, 2.71591720e+00, 1.31448881e+01, 3.81429418e+01,\n",
       "       2.65136243e+00, 9.63340144e+00, 1.28487919e+00, 4.34763426e+00,\n",
       "       6.62013157e+00, 1.66719510e+01, 6.38063199e+00, 2.78640542e+00,\n",
       "       1.51467686e+00, 9.08538765e+00, 7.84362416e+00, 2.68183706e+00,\n",
       "       1.18744346e+00, 1.03583217e+00, 7.17434672e-01, 6.53382575e+00,\n",
       "       4.67074640e-01, 3.82372846e+00, 1.79799322e+01, 8.57518050e+00,\n",
       "       1.80598947e+00, 1.45959760e+01, 1.00805846e+01, 1.38613976e+01,\n",
       "       1.75780888e+01, 2.62141283e+00, 8.66555788e+00, 2.33380657e+00,\n",
       "       1.16657101e+01, 1.52301652e+01, 5.30843552e+00, 1.51866246e+00,\n",
       "       5.74610108e+00, 1.36813376e+01, 8.48671951e+00, 4.16092400e+01,\n",
       "       6.15434747e+00, 4.29321665e+00, 9.54750373e+00, 1.61347950e+00,\n",
       "       8.06079023e+00, 7.72508472e+00, 1.87719803e+00, 4.10185268e+00,\n",
       "       7.88060532e+00, 9.69362916e+00, 8.56191864e+00, 7.68321735e+00,\n",
       "       2.44013575e+01, 3.40227572e+01, 1.58503400e+01, 5.73442136e+00,\n",
       "       5.36559344e+00, 1.79920705e+00, 2.53616223e+00, 9.53972524e-01,\n",
       "       2.80668793e-01, 7.65440591e+00, 1.16030939e+01, 6.05671035e+00,\n",
       "       1.87946262e+01, 5.30249677e+00, 8.54100941e+00, 8.49008906e+00,\n",
       "       1.44106599e+01, 1.59822894e+00, 2.09564499e+01, 1.16074863e+01,\n",
       "       2.09257906e+00, 4.18601499e-01, 7.11346753e+00, 5.39185031e+00,\n",
       "       2.89325256e+00, 1.01099921e+01, 4.17713100e+01, 2.28969222e+00,\n",
       "       1.55403980e+01, 3.98760079e-01, 7.82437234e-01, 8.07007731e+00,\n",
       "       2.90164554e+01, 2.88185210e+00, 4.87096751e+01, 2.20385400e+00,\n",
       "       2.41692764e+00, 1.79725004e+01, 4.00002641e-01, 5.63081960e+00,\n",
       "       5.56120940e+00, 7.33971344e+00, 8.26295072e+00, 1.35679913e+01,\n",
       "       9.15837808e+00, 5.23536318e-01, 6.59070581e+00, 5.19608490e+00,\n",
       "       5.84184109e+00, 2.34160659e+01, 3.80653420e+00, 2.18303927e+00,\n",
       "       6.82351738e+00, 1.33515194e+01, 3.98351486e+01, 1.92904201e+00,\n",
       "       2.08266195e+01, 1.14134298e+01, 2.38896320e+01, 1.07970059e+01,\n",
       "       3.44515402e+00, 6.00521458e+00, 3.08757028e+01, 2.62828076e+00,\n",
       "       1.50592517e+00, 2.25950361e+01, 1.09892408e+01, 1.28888884e+01,\n",
       "       1.04394154e+01, 1.03006112e+01, 2.24010861e+00, 3.71576663e+01,\n",
       "       2.08687163e+00, 2.20487899e+01, 1.28493876e+00, 3.94582902e+01,\n",
       "       3.25284213e+00, 2.39016790e+01, 3.69197206e+00, 2.61007896e+01,\n",
       "       1.43110364e+01, 3.60949007e+00, 1.17788251e+00, 3.61786644e+00,\n",
       "       3.15699087e+00, 8.97615761e-01, 2.34045823e+00, 2.13913699e+00,\n",
       "       7.35780793e-01, 6.18960514e+00, 7.63761512e+00, 1.07340936e+01,\n",
       "       3.09692992e+01, 1.48057807e+01, 2.76281150e+00, 1.22394450e+00,\n",
       "       1.10537451e+00, 1.38649079e+01, 1.92625842e+01, 8.72599008e+00,\n",
       "       2.50478146e+01, 1.05005581e+01, 1.72078475e+00, 7.08010446e+00,\n",
       "       1.29732228e+01, 2.93806601e+00, 5.69853888e+01, 3.48557533e+00,\n",
       "       1.22831707e+01, 5.71895051e+00, 1.86047407e+01, 7.71024594e+00,\n",
       "       1.26508268e+01, 4.26958356e+00, 2.62437164e+01, 4.67177834e+01,\n",
       "       1.08032902e+01, 6.97411394e+00, 8.12862562e+00, 2.59403807e+00,\n",
       "       9.63367792e+00, 2.41384095e+01, 3.44381483e+00, 7.44003914e+00,\n",
       "       5.06677099e-01, 3.12301470e+01, 1.09063817e+00, 5.69336956e+00,\n",
       "       1.70225639e+00, 1.45876664e+01, 8.23548768e+00, 4.70140538e+00,\n",
       "       1.10053133e+01, 2.97254864e+00, 3.16659387e+01, 1.13578444e+01,\n",
       "       7.38529687e+00, 1.79199076e+00, 2.86534929e+01, 6.82085767e+00,\n",
       "       9.52321714e+00, 3.09814596e+01, 1.98826205e+01, 1.12502752e+00,\n",
       "       2.42933824e+00, 3.23890336e+00, 1.52713427e+01, 4.59630058e+00,\n",
       "       1.10372769e+01, 6.45501725e+00, 2.12451734e+00, 3.27152026e+00,\n",
       "       2.42284842e+00, 1.02627665e+01, 3.26201561e+00, 9.01847044e+00,\n",
       "       1.59056916e+01, 4.56219999e+00, 3.87871099e+01, 1.02786043e+01,\n",
       "       7.32341313e+00, 4.65596484e+00, 9.25538100e+00, 8.92315674e+00,\n",
       "       3.01227963e+01, 4.21408968e+00, 2.98723505e+00, 3.82503485e-02,\n",
       "       1.77920225e+00, 6.87951926e+00, 2.00225778e+01, 6.49401577e+00,\n",
       "       4.13500191e+00, 5.18498360e-01, 2.26591410e+00, 8.44115710e+00,\n",
       "       2.98424689e+00, 8.85574033e+00, 2.98559959e+00, 3.87242571e+00,\n",
       "       1.23003754e+01, 2.72701597e+00, 6.10237328e+01, 1.68040820e+01,\n",
       "       2.26632957e-01, 7.70116944e-01, 5.08044728e+00, 1.27567921e+00,\n",
       "       3.65357113e+01, 5.53639537e+00, 2.95981023e+01, 1.22628996e+00,\n",
       "       1.85754955e+01, 4.86434050e+00, 1.62729994e+00, 3.62852620e+00,\n",
       "       1.07623670e+00, 2.17157954e+00, 8.76811576e-01, 2.88019707e+00,\n",
       "       1.96232834e+00, 1.48380131e+01, 3.37750796e+00, 3.06345718e+01,\n",
       "       1.57072647e+00, 3.64218978e+01, 7.12136527e+00, 1.99735585e+01,\n",
       "       1.31474094e-01, 2.10170923e+00, 3.99405221e+00, 1.06377187e+01,\n",
       "       2.45142272e+01, 1.78693589e+01, 1.13823266e+01, 1.29052421e+01,\n",
       "       2.58990539e+00, 2.37156758e+01, 1.62552084e+01, 6.62864227e+00,\n",
       "       4.93349104e+00, 7.95362957e+00, 1.82506410e+00, 8.09703026e+00,\n",
       "       1.80450844e+00, 9.02536533e+00, 4.05464070e+00, 1.55716869e+01,\n",
       "       6.34134546e+00, 4.27767527e+00, 6.72111106e+00, 4.26547755e+01,\n",
       "       2.29607649e+01, 3.79073974e+01, 1.72914995e+00, 2.23166661e+01,\n",
       "       2.78210291e+01, 1.97764930e+01, 3.27478110e+00, 1.35541809e+01,\n",
       "       1.94877045e+01, 3.55974970e+01, 7.64739566e-02, 5.27353499e+00,\n",
       "       9.89859884e+00, 2.15417368e+01, 9.50408085e+00, 6.91552670e-02,\n",
       "       3.36472023e+01, 2.74608962e+00, 8.41641890e+00, 5.02509448e+00,\n",
       "       2.09288013e+01, 1.27820440e+01, 2.72669583e+01, 1.96185487e+01,\n",
       "       3.22990252e+00, 1.51416369e+01, 2.35265250e+01, 3.46792494e+00,\n",
       "       1.97321743e+01, 9.95755796e+00, 1.78227684e+01, 2.85709043e+01,\n",
       "       9.61081644e+00, 2.72469761e+01, 3.87597658e+00, 2.48545119e+00,\n",
       "       2.18539033e+00, 3.48066582e+00, 1.51568588e+00, 1.70462955e+01,\n",
       "       3.65163282e+00, 2.60191868e+00, 4.83593789e+00, 9.51467978e+00,\n",
       "       1.06605161e+01, 8.08210047e+00, 2.21805821e-01, 5.15253538e+00,\n",
       "       1.17585305e+01, 1.89327584e+01, 8.18561003e+00, 2.33217369e+00,\n",
       "       2.06668785e+00, 1.42454331e+01, 3.11172623e+00, 6.60738771e+00,\n",
       "       9.72353737e+00, 4.15473883e+00, 1.66715280e+01, 3.48982396e+00,\n",
       "       1.09667556e+00, 4.70915789e+00, 2.27651206e+01, 5.78112162e+00,\n",
       "       8.91602999e+00, 3.37571134e+01, 1.16702832e+01, 4.56057457e+00,\n",
       "       2.53287965e-01, 2.16580265e+01, 9.69751514e+00, 3.92394320e+00,\n",
       "       1.64841492e+00, 1.78405584e+01, 2.20804930e+00, 7.68051729e+00,\n",
       "       1.72886798e+00, 2.23613926e+01, 1.29852261e+01, 9.19304775e+00,\n",
       "       1.07633341e+00, 4.49319050e-01, 2.18097066e+00, 8.00828541e-01,\n",
       "       4.71929361e+00, 8.19457953e+00, 2.31946331e+00, 7.90094413e+00,\n",
       "       3.59490447e+00, 3.58226623e+00, 2.58790212e+00, 1.01635780e+00,\n",
       "       7.44692996e-01, 1.03880870e+01, 5.44081515e+00, 8.70226360e-01,\n",
       "       2.32473623e+01, 1.27610664e+01, 1.55969817e+01, 5.93537488e+00,\n",
       "       8.43050561e+00, 6.57067934e+00, 1.03986265e+01, 8.75174391e+00,\n",
       "       6.04938609e+00, 1.36045892e+01, 1.53809903e+01, 1.77625993e+01,\n",
       "       1.17535922e+00, 1.03720716e+00, 1.05365892e+00, 1.20515704e+01,\n",
       "       7.05796200e+00, 8.85093421e+00, 4.99871403e+00, 1.35144470e+01,\n",
       "       9.42071826e+00, 6.29252700e+00, 1.63191345e+01, 1.32286183e+01,\n",
       "       5.24426036e+00, 1.99558943e+01, 2.58375766e+01, 5.83394481e+00,\n",
       "       2.61483354e+00, 9.44390564e+00, 6.03527641e+00, 6.44709514e-01,\n",
       "       3.72180133e+00, 2.48517966e+00, 1.50148704e+01, 3.34530436e+00,\n",
       "       9.97828758e+00, 1.87307827e+00, 8.13824544e+00, 1.15407004e+01,\n",
       "       1.39714218e+01, 1.22924736e+00, 4.83093453e+00, 4.79363593e-01,\n",
       "       1.00760457e+01, 1.90666104e+01, 1.21697467e+01, 8.70978990e+00,\n",
       "       9.26717343e+00, 9.79471303e+00, 6.53525310e-01, 6.65292387e+00,\n",
       "       1.35090993e+01, 9.54309976e+00, 2.29795703e+00, 5.98542101e+00,\n",
       "       8.98075621e+00, 1.17000146e+01, 8.27672643e+00, 3.46854948e+00,\n",
       "       8.23758185e+00, 1.74866035e+01, 2.09699185e+01, 2.34281888e+01,\n",
       "       7.30999292e+00, 9.31264596e+00, 2.10926273e+01, 3.56299062e+01,\n",
       "       5.53105211e+00, 9.70247517e+00, 6.35829436e+00, 2.08448866e+00,\n",
       "       2.71906599e-01, 4.80009093e+00, 1.08527084e+00, 1.96038111e+01,\n",
       "       1.66967652e+01, 2.85112727e+00, 1.26973952e+01, 5.05963126e+00,\n",
       "       1.56827752e+01, 2.40826795e+00, 1.57037772e+01, 1.64577018e+01,\n",
       "       2.87376871e+00, 7.54915377e+00, 1.19229145e+01, 6.17936857e-01,\n",
       "       1.96609198e-01, 1.15423624e+00, 1.31993369e+01, 6.15614308e+00,\n",
       "       3.08361258e+01, 1.47779284e+01, 8.10154610e+00, 4.58222267e-01,\n",
       "       2.41060611e+00, 7.80158303e-01, 3.59718895e+00, 5.25709603e+00,\n",
       "       7.94608234e-01, 3.82237264e-01, 1.95532032e+00, 3.86397861e+00,\n",
       "       1.05066740e+00, 1.46280392e+00, 1.01242961e+01, 2.68308625e+00,\n",
       "       2.74225968e+00, 1.69776115e+01, 2.80786591e-01, 1.85641307e+01,\n",
       "       1.28105179e+01, 2.91498704e+01, 1.00177347e+01, 1.03722535e+01,\n",
       "       2.45757673e+00, 2.01101668e+01, 1.52309731e+01, 6.99910834e-01,\n",
       "       4.93615228e-02, 1.20507940e+01, 7.64050409e+00, 3.14611211e+00,\n",
       "       6.05404352e+00, 8.92628350e+00, 4.81069241e+00, 3.89660247e-01,\n",
       "       2.02758089e+01, 6.06600128e+00, 7.74738932e+00, 2.87752446e+00,\n",
       "       1.76148312e+01, 7.39502956e+00, 3.59764403e-01, 3.79820615e+01,\n",
       "       2.97457611e+00, 1.81274116e+00, 5.43047545e+00, 4.01290490e+00,\n",
       "       3.84797156e+00, 3.10251145e+00, 1.56076848e+00, 2.39964282e-01,\n",
       "       1.61291922e+01, 9.83133115e-01, 6.54436464e+00, 9.36644557e-02,\n",
       "       7.24503700e-01, 1.62905582e+01, 1.24048144e+01, 2.24481365e+01,\n",
       "       1.23776501e+01, 5.70171462e+00, 2.57068010e+00, 1.55267904e+00,\n",
       "       3.11808019e+01, 1.53467935e+00, 2.10534723e+01, 5.67414928e+00,\n",
       "       1.16803799e+01, 1.62110563e+00, 2.61522586e+00, 1.06863379e+01,\n",
       "       1.52976496e+01, 2.37865542e+01, 2.51758410e+01, 1.46817516e+01,\n",
       "       6.68357681e+00, 1.83643990e+00, 6.38886959e-01, 2.00333204e+01,\n",
       "       7.70712491e+00, 1.57223577e+01, 1.36236698e+01, 1.18975802e+01,\n",
       "       4.48439053e-01, 8.46812349e+00, 4.23530956e+00, 2.09422715e+01,\n",
       "       3.88766197e+00, 1.10834741e+01, 5.09623478e-01, 8.27816220e+00,\n",
       "       5.47367424e-01, 2.37451527e+01, 1.09601015e+01, 6.14727692e+00,\n",
       "       4.89967096e+00, 3.02924747e+00, 1.13550646e+01, 2.68161009e+00,\n",
       "       1.07352933e+01, 2.61178514e+01, 5.03956401e+00, 1.77711674e+00,\n",
       "       1.56370387e+00, 2.47420616e+00, 2.36745107e+01, 2.47181917e-01,\n",
       "       2.11048659e+01, 1.32792021e+01, 2.26331030e+01, 1.53452235e+01,\n",
       "       1.97066980e+01, 1.27660539e+01, 2.05926920e+00, 1.01770410e+01,\n",
       "       8.69619500e-02, 3.02916635e+01, 2.65942816e+01, 1.89189763e+01,\n",
       "       1.09557557e+01, 7.20919546e-01, 4.02023411e+01, 8.49996716e+00,\n",
       "       2.65742832e+00, 2.50753906e+00, 1.07337945e+01, 3.82064247e+00,\n",
       "       1.83761928e+01, 8.70445677e-01, 6.70117465e+00, 1.67208847e+00,\n",
       "       4.70898102e+00, 1.15209356e+01, 6.48291200e+00, 1.54218925e+01,\n",
       "       1.54728128e+00, 7.13934078e+00, 8.17719294e+00, 1.29788374e+01,\n",
       "       1.09882435e+01, 7.32623608e-01, 1.66515373e+01, 4.28054833e+00,\n",
       "       4.06216854e+00, 8.91360632e+00, 3.15472437e+00, 9.32886168e+00,\n",
       "       1.70493420e+01, 1.83393438e-01, 8.38552921e-01, 1.07646613e+00,\n",
       "       7.67896882e+00, 1.17905553e+01, 5.58229103e+01, 7.79862855e+00,\n",
       "       4.40492568e+00, 1.25160817e+01, 9.20788181e+00, 7.48114593e+00])"
      ]
     },
     "execution_count": 166,
     "metadata": {},
     "output_type": "execute_result"
    }
   ],
   "source": [
    "# your answer here\n",
    "# Hint: This is same as saying P(x<15)\n",
    "\n",
    "#y = 1/10 \n",
    "\n",
    "y_bank = numpy_random_exponential (10, 1000)\n",
    "y_bank"
   ]
  },
  {
   "cell_type": "code",
   "execution_count": 172,
   "metadata": {},
   "outputs": [
    {
     "name": "stdout",
     "output_type": "stream",
     "text": [
      "The change that someone stays les the 15 min in the bank is: exp.cdf:15 99.99991684712809 %\n"
     ]
    }
   ],
   "source": [
    "\"\"\"fig3, set_7 = plt.subplots(1,1)\n",
    "\n",
    "set_7.hist(numpy_random_exponential (10, 1000), bins=100)\n",
    "set_7.set_title('bank waiting time')   \n",
    "set_7.set_xlabel('x label')     \n",
    "set_7.set_ylabel('y label')\n",
    "\n",
    "plt.show()\"\"\"\n",
    "\n",
    "#print(\"exp.pdf: \", exp.pdf(15))\n",
    "print(\"The change that someone stays les the 15 min in the bank is: exp.cdf:15\", exp.cdf(15))    \n",
    "#print(\"exp.rvs: \", exp.rvs())"
   ]
  },
  {
   "cell_type": "markdown",
   "metadata": {},
   "source": [
    "What is the probability that the customer will spend more than 15 minutes"
   ]
  },
  {
   "cell_type": "code",
   "execution_count": 174,
   "metadata": {},
   "outputs": [
    {
     "name": "stdout",
     "output_type": "stream",
     "text": [
      "The change that someone stays more the 15 min in the bank is: 1 - exp.cdf:15 8.315287191029697e-07\n"
     ]
    }
   ],
   "source": [
    "# your answer here\n",
    "print(\"The change that someone stays more the 15 min in the bank is: 1 - exp.cdf:15\", (1-exp.cdf(15)))  "
   ]
  }
 ],
 "metadata": {
  "kernelspec": {
   "display_name": "Python 3",
   "language": "python",
   "name": "python3"
  },
  "language_info": {
   "codemirror_mode": {
    "name": "ipython",
    "version": 3
   },
   "file_extension": ".py",
   "mimetype": "text/x-python",
   "name": "python",
   "nbconvert_exporter": "python",
   "pygments_lexer": "ipython3",
   "version": "3.7.4"
  }
 },
 "nbformat": 4,
 "nbformat_minor": 2
}
