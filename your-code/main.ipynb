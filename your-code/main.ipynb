{
 "cells": [
  {
   "cell_type": "markdown",
   "metadata": {},
   "source": [
    "# Before your start:\n",
    "\n",
    "    Read the README.md file\n",
    "    Comment as much as you can and use the resources (README.md file)\n",
    "    Happy learning!"
   ]
  },
  {
   "cell_type": "markdown",
   "metadata": {},
   "source": [
    "In this exercise, we  will generate random numbers from the continuous disributions we learned in the lesson. There are two ways to generate random numbers:\n",
    "\n",
    "1. Using the numpy library \n",
    "1. using the Scipy library \n",
    "\n",
    "Use either or both of the lbraries in this exercise."
   ]
  },
  {
   "cell_type": "markdown",
   "metadata": {},
   "source": [
    "## Uniform Distribution\n",
    "\n",
    "To generate uniform random numbers between any two given values using scipy, we can either use the following code or the code that we have\n",
    "discussed in class:"
   ]
  },
  {
   "cell_type": "code",
   "execution_count": 10,
   "metadata": {},
   "outputs": [
    {
     "name": "stdout",
     "output_type": "stream",
     "text": [
      "[2.27703243 2.55167824 2.37991954 2.46458224 2.41465867 2.29251665\n",
      " 2.29265495 2.30635905 2.66137354 2.0630812 ]\n"
     ]
    }
   ],
   "source": [
    "from scipy.stats import uniform\n",
    "x = uniform.rvs(size=10)\n",
    "a = 2\n",
    "b = 3\n",
    "randoms  = a + (b-a)*x\n",
    "print(randoms)"
   ]
  },
  {
   "cell_type": "markdown",
   "metadata": {},
   "source": [
    "**Your task:**\n",
    "\n",
    "1. Based on the code above, write a function that generates uniformly distributed random numbers. There are several requirements for your function:\n",
    "    * It should accept 3 parameters: \n",
    "        * `bottom` - the lower boundary of the generated numbers\n",
    "        * `ceiling` - the upper boundary of the generated numbers\n",
    "        * `count` - how many numbers to generate\n",
    "    * It should return an array of uniformly distributed random numbers\n",
    "\n",
    "1. Call your function with 2 sets of params below:\n",
    "    * bottom=10, ceiling=15, count=100\n",
    "    * bottom=10, ceiling=60, count=1,000\n",
    "\n",
    "1. Plot the uniform distributions generated above using histograms, where x axis is the value and y axis is the count. Let the histogram's number of bins be 10.\n",
    "\n",
    "Your output should look like below:\n",
    "\n",
    "![uniform distribution](ud.png)"
   ]
  },
  {
   "cell_type": "code",
   "execution_count": 11,
   "metadata": {},
   "outputs": [],
   "source": [
    "# your code here\n",
    "\n",
    "'''\n",
    "L.S. This works, but never import modules from within a function.\n",
    "'''\n",
    "\n",
    "def uniformly_distributed_random_numbers (bottom, ceiling, count):\n",
    "    from scipy.stats import uniform\n",
    "    x = uniform.rvs(size=count)\n",
    "    a = bottom\n",
    "    b = ceiling\n",
    "    randoms  = a + (b-a)*x\n",
    "    return(randoms)\n"
   ]
  },
  {
   "cell_type": "code",
   "execution_count": 12,
   "metadata": {},
   "outputs": [],
   "source": [
    "y1 = uniformly_distributed_random_numbers(10,15,100)\n",
    "y2 = uniformly_distributed_random_numbers(10,60,1000)"
   ]
  },
  {
   "cell_type": "code",
   "execution_count": 13,
   "metadata": {},
   "outputs": [
    {
     "data": {
      "text/plain": [
       "<matplotlib.axes._subplots.AxesSubplot at 0x1a20c4be80>"
      ]
     },
     "execution_count": 13,
     "metadata": {},
     "output_type": "execute_result"
    }
   ],
   "source": [
    "set_1"
   ]
  },
  {
   "cell_type": "code",
   "execution_count": 16,
   "metadata": {},
   "outputs": [
    {
     "data": {
      "image/png": "[encoded data removed]",
      "text/plain": [
       "<Figure size 432x288 with 2 Axes>"
      ]
     },
     "metadata": {
      "needs_background": "light"
     },
     "output_type": "display_data"
    }
   ],
   "source": [
    "import matplotlib.style\n",
    "import matplotlib as mpl\n",
    "import matplotlib.pyplot as plt\n",
    "fig, [set_1, set_2] = plt.subplots(1,2)\n",
    "\n",
    "'''\n",
    "L.S. Very good!\n",
    "'''\n",
    "\n",
    "set_1.hist(y1, bins=10)\n",
    "set_1.set_title('set_1')   \n",
    "set_1.set_xlabel('x label')     \n",
    "set_1.set_ylabel('y label')\n",
    "\n",
    "set_2.hist(y2, bins=10) \n",
    "set_2.set_title('bin_20 PLOT')   \n",
    "set_2.set_xlabel('x label')     \n",
    "set_2.set_ylabel('y label')\n",
    "\n",
    "plt.show()"
   ]
  },
  {
   "cell_type": "markdown",
   "metadata": {},
   "source": [
    "How are the two distributions different?"
   ]
  },
  {
   "cell_type": "code",
   "execution_count": 18,
   "metadata": {},
   "outputs": [
    {
     "data": {
      "text/plain": [
       "'\\n\\nSet_1 the distribution is very different. The bins vary a lot \\nSet_2 the bins are almost all the same. This can be explained by the amound of random genartions. \\n\\nin set_2 there are over 1000 random generated numbers \\n\\nin set_1 there are only 100. If thise would be also 1000 the subplots of set 1 and 3 would be qiet simular. \\n\\n'"
      ]
     },
     "execution_count": 18,
     "metadata": {},
     "output_type": "execute_result"
    }
   ],
   "source": [
    "# your answer below\n",
    "\n",
    "'''\n",
    "L.S. Yes, indeed.\n",
    "'''\n",
    "\n",
    "\"\"\"\n",
    "\n",
    "Set_1 the distribution is very different. The bins vary a lot \\\n",
    "\n",
    "Set_2 the bins are almost all the same. This can be explained by the amound of random genartions. \n",
    "\n",
    "in set_2 there are over 1000 random generated numbers \n",
    "\n",
    "in set_1 there are only 100. If thise would be also 1000 the subplots of set 1 and 3 would be qiet simular. \n",
    "\n",
    "\"\"\""
   ]
  },
  {
   "cell_type": "markdown",
   "metadata": {},
   "source": [
    "## Normal Distribution\n",
    "\n",
    "1. In the same way in the Uniform Distribution challenge, write a function that generates normally distributed random numbers.\n",
    "1. Generate 1,000 normally distributed numbers with the average of 10 and standard deviation of 1\n",
    "1. Generate 1,000 normally distributed numbers with the average of 10 and standard deviation of 50\n",
    "2. Plot the distributions of the data generated.\n",
    "\n",
    "Expected output:\n",
    "\n",
    "![normal distribution](nd.png)"
   ]
  },
  {
   "cell_type": "code",
   "execution_count": 19,
   "metadata": {},
   "outputs": [
    {
     "data": {
      "text/plain": [
       "array([ 9.78095181,  9.84969973,  9.40205873,  9.26790182, 10.41329984,\n",
       "        9.9125813 ,  8.38960698, 10.77732802, 10.3260836 ,  8.52049276,\n",
       "        8.51398784, 10.53482238, 10.71572608,  9.05748137,  8.71887091,\n",
       "        9.76493683, 11.8379731 ,  9.90126552,  9.31229636, 11.61396568])"
      ]
     },
     "execution_count": 19,
     "metadata": {},
     "output_type": "execute_result"
    }
   ],
   "source": [
    "from scipy.stats import norm\n",
    "import numpy as np \n",
    "mu, sigma = 10, 1 # mean and standard deviation\n",
    "s = np.random.normal(mu, sigma, 20)\n",
    "s"
   ]
  },
  {
   "cell_type": "code",
   "execution_count": 21,
   "metadata": {},
   "outputs": [
    {
     "data": {
      "text/plain": [
       "array([ 9.06215611, 10.97505796, 11.13106818, 11.25515938,  9.61398098,\n",
       "       10.29977452,  8.9215485 , 10.14908136, 10.73670179, 11.07018764,\n",
       "       11.16371084, 10.95528403, 11.70394452,  9.83676363, 10.070145  ,\n",
       "       10.23165004,  9.35704621, 11.06132917,  9.06539405, 10.83959749])"
      ]
     },
     "execution_count": 21,
     "metadata": {},
     "output_type": "execute_result"
    }
   ],
   "source": [
    "# your code here\n",
    "'''\n",
    "L.S. Correct!\n",
    "'''\n",
    "\n",
    "def normal_distributed_random_numbers (mu, sigma, count):\n",
    "    from scipy.stats import norm\n",
    "    import numpy as np \n",
    "    s = np.random.normal(mu, sigma, count)\n",
    "    return(s)\n",
    "\n",
    "\n",
    "normal_distributed_random_numbers (10, 1, 20)\n",
    "\n"
   ]
  },
  {
   "cell_type": "code",
   "execution_count": 22,
   "metadata": {},
   "outputs": [
    {
     "data": {
      "image/png": "[encoded data removed]",
      "text/plain": [
       "<Figure size 432x288 with 2 Axes>"
      ]
     },
     "metadata": {
      "needs_background": "light"
     },
     "output_type": "display_data"
    }
   ],
   "source": [
    "y3 = normal_distributed_random_numbers (10, 1, 1000)\n",
    "y4 = normal_distributed_random_numbers (10, 50, 1000)\n",
    "\n",
    "'''\n",
    "L.S. Well done!\n",
    "'''\n",
    "\n",
    "fig2, [set_3, set_4] = plt.subplots(1,2)\n",
    "\n",
    "set_3.hist(y3, bins=50)\n",
    "set_3.set_title('sd is 1')   \n",
    "set_3.set_xlabel('x label')     \n",
    "set_3.set_ylabel('y label')\n",
    "\n",
    "set_4.hist(y4, bins=50) \n",
    "set_4.set_title('sd is 50')   \n",
    "set_4.set_xlabel('x label')     \n",
    "set_4.set_ylabel('y label')\n",
    "\n",
    "plt.show()\n"
   ]
  },
  {
   "cell_type": "markdown",
   "metadata": {},
   "source": [
    "How are the two distributions different?"
   ]
  },
  {
   "cell_type": "code",
   "execution_count": 23,
   "metadata": {},
   "outputs": [
    {
     "data": {
      "text/plain": [
       "'\\nIt is surprising that the shape of both graphs where the standard deviation (sd) is 1 or 50, is qiet the same\\nSometime after generating the radom normal distributed numbers the sd1 stable is more smooth and somtimes this is the \\ncas with sd 50 or with both or neither of them \\n\\nI actualy expected that sd 50 would be always the less smooth one. \\n\\n'"
      ]
     },
     "execution_count": 23,
     "metadata": {},
     "output_type": "execute_result"
    }
   ],
   "source": [
    "# your answer below\n",
    "\n",
    "\"\"\"\n",
    "It is surprising that the shape of both graphs where the standard deviation (sd) is 1 or 50, is qiet the same\n",
    "Sometime after generating the radom normal distributed numbers the sd1 stable is more smooth and somtimes this is the \n",
    "cas with sd 50 or with both or neither of them \n",
    "\n",
    "I actualy expected that sd 50 would be always the less smooth one. \n",
    "\n",
    "\"\"\""
   ]
  },
  {
   "cell_type": "markdown",
   "metadata": {},
   "source": [
    "## Normal Distribution of Real Data\n",
    "\n",
    "In this challenge we are going to take a look the real data. We will use vehicles.csv file for this exercise"
   ]
  },
  {
   "cell_type": "markdown",
   "metadata": {},
   "source": [
    "First import vehicles.csv.\n",
    "Then plot the histograms for the following variables:\n",
    "\n",
    "1. Fuel Barrels/Year"
   ]
  },
  {
   "cell_type": "code",
   "execution_count": 24,
   "metadata": {},
   "outputs": [
    {
     "data": {
      "text/html": [
       "<div>\n",
       "<style scoped>\n",
       "    .dataframe tbody tr th:only-of-type {\n",
       "        vertical-align: middle;\n",
       "    }\n",
       "\n",
       "    .dataframe tbody tr th {\n",
       "        vertical-align: top;\n",
       "    }\n",
       "\n",
       "    .dataframe thead th {\n",
       "        text-align: right;\n",
       "    }\n",
       "</style>\n",
       "<table border=\"1\" class=\"dataframe\">\n",
       "  <thead>\n",
       "    <tr style=\"text-align: right;\">\n",
       "      <th></th>\n",
       "      <th>Make</th>\n",
       "      <th>Model</th>\n",
       "      <th>Year</th>\n",
       "      <th>Engine Displacement</th>\n",
       "      <th>Cylinders</th>\n",
       "      <th>Transmission</th>\n",
       "      <th>Drivetrain</th>\n",
       "      <th>Vehicle Class</th>\n",
       "      <th>Fuel Type</th>\n",
       "      <th>Fuel Barrels/Year</th>\n",
       "      <th>City MPG</th>\n",
       "      <th>Highway MPG</th>\n",
       "      <th>Combined MPG</th>\n",
       "      <th>CO2 Emission Grams/Mile</th>\n",
       "      <th>Fuel Cost/Year</th>\n",
       "    </tr>\n",
       "  </thead>\n",
       "  <tbody>\n",
       "    <tr>\n",
       "      <th>0</th>\n",
       "      <td>AM General</td>\n",
       "      <td>DJ Po Vehicle 2WD</td>\n",
       "      <td>1984</td>\n",
       "      <td>2.5</td>\n",
       "      <td>4.0</td>\n",
       "      <td>Automatic 3-spd</td>\n",
       "      <td>2-Wheel Drive</td>\n",
       "      <td>Special Purpose Vehicle 2WD</td>\n",
       "      <td>Regular</td>\n",
       "      <td>19.388824</td>\n",
       "      <td>18</td>\n",
       "      <td>17</td>\n",
       "      <td>17</td>\n",
       "      <td>522.764706</td>\n",
       "      <td>1950</td>\n",
       "    </tr>\n",
       "    <tr>\n",
       "      <th>1</th>\n",
       "      <td>AM General</td>\n",
       "      <td>FJ8c Post Office</td>\n",
       "      <td>1984</td>\n",
       "      <td>4.2</td>\n",
       "      <td>6.0</td>\n",
       "      <td>Automatic 3-spd</td>\n",
       "      <td>2-Wheel Drive</td>\n",
       "      <td>Special Purpose Vehicle 2WD</td>\n",
       "      <td>Regular</td>\n",
       "      <td>25.354615</td>\n",
       "      <td>13</td>\n",
       "      <td>13</td>\n",
       "      <td>13</td>\n",
       "      <td>683.615385</td>\n",
       "      <td>2550</td>\n",
       "    </tr>\n",
       "  </tbody>\n",
       "</table>\n",
       "</div>"
      ],
      "text/plain": [
       "         Make              Model  Year  Engine Displacement  Cylinders  \\\n",
       "0  AM General  DJ Po Vehicle 2WD  1984                  2.5        4.0   \n",
       "1  AM General   FJ8c Post Office  1984                  4.2        6.0   \n",
       "\n",
       "      Transmission     Drivetrain                Vehicle Class Fuel Type  \\\n",
       "0  Automatic 3-spd  2-Wheel Drive  Special Purpose Vehicle 2WD   Regular   \n",
       "1  Automatic 3-spd  2-Wheel Drive  Special Purpose Vehicle 2WD   Regular   \n",
       "\n",
       "   Fuel Barrels/Year  City MPG  Highway MPG  Combined MPG  \\\n",
       "0          19.388824        18           17            17   \n",
       "1          25.354615        13           13            13   \n",
       "\n",
       "   CO2 Emission Grams/Mile  Fuel Cost/Year  \n",
       "0               522.764706            1950  \n",
       "1               683.615385            2550  "
      ]
     },
     "execution_count": 24,
     "metadata": {},
     "output_type": "execute_result"
    }
   ],
   "source": [
    "# your code here\n",
    "import numpy as np \n",
    "import pandas as pd \n",
    "vehicles= pd.read_csv('vehicles.csv')\n",
    "vehicles.head(2)"
   ]
  },
  {
   "cell_type": "code",
   "execution_count": 25,
   "metadata": {},
   "outputs": [
    {
     "data": {
      "image/png": "[encoded data removed]",
      "text/plain": [
       "<Figure size 432x288 with 1 Axes>"
      ]
     },
     "metadata": {
      "needs_background": "light"
     },
     "output_type": "display_data"
    }
   ],
   "source": [
    "vehicles.hist(\"Fuel Barrels/Year\", bins = 50)\n",
    "plt.show()"
   ]
  },
  {
   "cell_type": "code",
   "execution_count": 28,
   "metadata": {},
   "outputs": [
    {
     "data": {
      "image/png": "[encoded data removed]",
      "text/plain": [
       "<Figure size 360x360 with 1 Axes>"
      ]
     },
     "metadata": {
      "needs_background": "light"
     },
     "output_type": "display_data"
    }
   ],
   "source": [
    "\n",
    "# i red the excersise rong --> not a barplot but a histogram \n",
    "\n",
    "import matplotlib.pyplot as plt\n",
    "import seaborn as sns\n",
    "%matplotlib inline\n",
    "\n",
    "'''\n",
    "L.S. Nice palette, however - as you already said - this is not a historgram. However, the rest of the plots are\n",
    "correct, so that's fine.\n",
    "'''\n",
    "\n",
    "plt.figure(figsize=(5, 5))\n",
    "ax = sns.barplot(x= \"Fuel Barrels/Year\", y= \"Fuel Barrels/Year\", palette=\"vlag_r\", data=vehicles)\n",
    "#ax.invert_yaxis()"
   ]
  },
  {
   "cell_type": "markdown",
   "metadata": {},
   "source": [
    "2. CO2 Emission Grams/Mile "
   ]
  },
  {
   "cell_type": "code",
   "execution_count": 29,
   "metadata": {},
   "outputs": [
    {
     "data": {
      "image/png": "[encoded data removed]",
      "text/plain": [
       "<Figure size 432x288 with 1 Axes>"
      ]
     },
     "metadata": {
      "needs_background": "light"
     },
     "output_type": "display_data"
    }
   ],
   "source": [
    "# your code here\n",
    "vehicles.hist(\"CO2 Emission Grams/Mile\", bins = 50)\n",
    "plt.show()"
   ]
  },
  {
   "cell_type": "markdown",
   "metadata": {},
   "source": [
    "3. Combined MPG"
   ]
  },
  {
   "cell_type": "code",
   "execution_count": 30,
   "metadata": {},
   "outputs": [
    {
     "data": {
      "image/png": "[encoded data removed]",
      "text/plain": [
       "<Figure size 432x288 with 1 Axes>"
      ]
     },
     "metadata": {
      "needs_background": "light"
     },
     "output_type": "display_data"
    }
   ],
   "source": [
    "# your code here\n",
    "vehicles.hist(\"Combined MPG\", bins = 50)\n",
    "plt.show()"
   ]
  },
  {
   "cell_type": "markdown",
   "metadata": {},
   "source": [
    "Which one(s) of the variables are nearly normally distributed? How do you know?"
   ]
  },
  {
   "cell_type": "code",
   "execution_count": 32,
   "metadata": {},
   "outputs": [
    {
     "data": {
      "text/plain": [
       "'\\nLooking at the plots, most nomal ditributed graph is the Combined MPG.\\nThis becomes more visible with a bin size bigger that 50. \\n'"
      ]
     },
     "execution_count": 32,
     "metadata": {},
     "output_type": "execute_result"
    }
   ],
   "source": [
    "# your answer here\n",
    "\n",
    "'''\n",
    "L.S. Good!\n",
    "'''\n",
    "\n",
    "\"\"\"\n",
    "Looking at the plots, most nomal ditributed graph is the Combined MPG.\n",
    "This becomes more visible with a bin size bigger that 50. \n",
    "\"\"\"\n"
   ]
  },
  {
   "cell_type": "markdown",
   "metadata": {},
   "source": [
    "## Exponential Distribution"
   ]
  },
  {
   "cell_type": "markdown",
   "metadata": {},
   "source": [
    "1. Using `numpy.random.exponential`, create a function that returns a list of numbers exponentially distributed with the mean of 10. \n",
    "\n",
    "1. Use the function to generate two number sequences with the size of 1 and 100.\n",
    "\n",
    "1. Plot the distributions as histograms with the nubmer of bins as 100.\n",
    "\n",
    "Your output should look like below:\n",
    "\n",
    "![exponential distribution](ed.png)"
   ]
  },
  {
   "cell_type": "code",
   "execution_count": 33,
   "metadata": {},
   "outputs": [],
   "source": [
    "# your code here\n",
    "\n",
    "def numpy_random_exponential (mean, count):\n",
    "    return np.random.exponential(mean, count)"
   ]
  },
  {
   "cell_type": "code",
   "execution_count": 130,
   "metadata": {},
   "outputs": [
    {
     "data": {
      "image/png": "[encoded data removed]",
      "text/plain": [
       "<Figure size 432x288 with 2 Axes>"
      ]
     },
     "metadata": {
      "needs_background": "light"
     },
     "output_type": "display_data"
    }
   ],
   "source": [
    "y5 = numpy_random_exponential (1, 1000)\n",
    "y6 = numpy_random_exponential (100, 1000)\n",
    "\n",
    "'''\n",
    "L.S. Correct!\n",
    "'''\n",
    "\n",
    "fig3, [set_5, set_6] = plt.subplots(1,2)\n",
    "\n",
    "set_5.hist(y5, bins=100)\n",
    "set_5.set_title('exp 1-1000')   \n",
    "set_5.set_xlabel('x label')     \n",
    "set_5.set_ylabel('y label')\n",
    "\n",
    "set_6.hist(y6, bins=100) \n",
    "set_6.set_title('exp 100-1000')   \n",
    "set_6.set_xlabel('x label')     \n",
    "set_6.set_ylabel('y label')\n",
    "\n",
    "plt.show()\n"
   ]
  },
  {
   "cell_type": "markdown",
   "metadata": {},
   "source": [
    "How are the two distributions different?"
   ]
  },
  {
   "cell_type": "code",
   "execution_count": 119,
   "metadata": {},
   "outputs": [],
   "source": [
    "# your answer here\n",
    "\n",
    "\"\"\"\n",
    "They look the same\n",
    "Only the x as is different, because the mean is different ( higher with an higher mean)\n",
    "Also the y as of exp 100-1000 is different every time. Depending on the random exp generated numbers \n",
    "\n",
    "\"\"\"\n",
    "\n"
   ]
  },
  {
   "cell_type": "markdown",
   "metadata": {},
   "source": [
    "## Exponential Distribution of Real Data\n",
    "\n",
    "Suppose that the amount of time one spends in a bank is exponentially distributed with mean as 10 minutes (i.e. λ = 1/10). What is the probability that a customer will spend less than fifteen minutes in the bank? \n",
    "\n",
    "Write a code in python to solve this problem"
   ]
  },
  {
   "cell_type": "code",
   "execution_count": 34,
   "metadata": {},
   "outputs": [
    {
     "data": {
      "text/plain": [
       "array([1.63323718e+01, 2.19498836e+01, 1.34395903e+01, 1.31371390e+01,\n",
       "       4.44825823e+00, 3.64895295e+00, 1.86996202e+01, 6.46932877e+00,\n",
       "       7.15561296e+00, 7.39862838e+00, 6.28924819e+00, 2.44931724e+00,\n",
       "       1.43233463e+00, 1.85636505e+00, 6.86314433e+00, 3.68282735e+00,\n",
       "       4.96779179e+00, 1.10391767e+01, 2.81264350e+01, 6.32366033e-01,\n",
       "       1.59712834e+01, 9.47520377e+00, 4.10542212e+00, 3.83534883e+00,\n",
       "       2.97006644e+01, 2.21341810e+00, 4.11258436e+00, 9.47726590e+00,\n",
       "       3.92503773e-01, 2.78682584e+00, 6.14951982e+00, 5.57867552e+00,\n",
       "       4.65313338e+01, 5.13803953e+01, 8.54762030e+00, 4.46382234e+00,\n",
       "       1.18945903e+01, 9.85843819e+00, 8.89613980e+00, 2.77418442e+00,\n",
       "       1.32654769e+01, 4.23177040e+00, 1.00502591e+01, 3.46805765e+00,\n",
       "       1.04040796e+00, 1.21278533e+01, 1.06777175e+01, 1.44625835e+01,\n",
       "       1.18154408e+01, 1.64317902e+00, 1.41453518e+01, 2.11796981e+01,\n",
       "       5.88498954e+00, 4.58336978e+00, 3.66289454e+00, 5.28672092e+00,\n",
       "       6.67482712e+00, 5.96858187e+00, 1.02254509e+01, 4.35441340e+00,\n",
       "       6.91333588e+00, 3.13163475e-01, 4.67673868e+00, 6.04867881e+00,\n",
       "       2.78496124e+00, 6.10333040e-01, 1.42838578e+00, 2.22546559e+01,\n",
       "       9.95456369e-02, 3.20785109e+01, 1.88088083e+01, 1.07626748e+00,\n",
       "       2.52103935e+01, 1.42281105e+01, 4.06639545e-01, 7.07360256e+00,\n",
       "       9.72943744e+00, 4.92403188e+00, 3.53587161e+00, 7.25730516e+00,\n",
       "       1.34364652e+00, 2.82473493e+00, 1.35767993e+00, 3.61944786e+00,\n",
       "       6.43634073e+00, 1.93447807e+00, 1.71293814e+01, 2.10350106e+00,\n",
       "       4.48702967e+00, 8.00965885e-01, 2.63258721e+00, 7.12251263e+00,\n",
       "       1.01522960e+01, 1.02380211e+00, 6.63786932e+00, 1.22521095e+01,\n",
       "       1.11100808e+01, 3.38724591e+01, 9.52534090e+00, 1.38506369e+01,\n",
       "       1.17364149e+01, 6.35298130e+00, 3.52761943e+00, 4.73017479e+00,\n",
       "       5.29248153e+01, 1.87437922e+01, 3.51606879e+00, 1.29239861e+01,\n",
       "       2.02940178e+01, 4.14093600e+00, 7.67982298e+00, 1.37032705e+00,\n",
       "       1.53980792e+01, 2.42783163e+01, 8.69985873e+00, 1.58158147e+01,\n",
       "       9.28148063e-01, 1.26060637e+01, 1.00516042e+00, 1.48869679e+00,\n",
       "       7.00314201e+00, 1.12449886e+01, 1.73289615e+00, 1.44770221e+01,\n",
       "       3.09065690e+01, 9.47510285e+00, 7.70619765e-01, 8.59011134e+00,\n",
       "       1.94781353e+01, 4.60715690e-01, 1.25157497e+01, 3.36086219e+01,\n",
       "       4.42204642e+00, 2.16426451e+00, 1.56677470e+00, 3.33830273e+00,\n",
       "       1.63264474e+01, 1.48579290e+01, 8.46127923e+00, 2.74402780e+00,\n",
       "       1.18555429e+01, 1.01919219e+01, 5.76514454e+00, 2.28424887e+01,\n",
       "       5.12992053e+00, 3.63709260e-01, 6.54433813e+00, 3.46391328e+00,\n",
       "       1.85137161e+00, 1.89420220e+00, 3.09967264e+00, 6.79293553e-01,\n",
       "       7.01310823e+00, 2.21005456e+00, 1.73529858e+01, 1.50780279e+01,\n",
       "       1.85993326e+01, 3.54822813e+00, 2.43680057e+01, 1.47365482e+01,\n",
       "       5.69189066e+00, 4.64563574e+00, 1.30282741e+01, 7.30731241e-01,\n",
       "       2.00584250e+01, 1.22370127e+00, 2.98021011e+00, 5.08182193e+00,\n",
       "       1.18401439e+01, 1.25961717e+00, 1.71318013e+01, 6.94349146e+00,\n",
       "       2.26871066e+00, 2.08913108e+01, 2.25787503e+00, 5.74257157e+00,\n",
       "       1.09530934e+00, 3.96995375e-01, 5.05434647e-01, 3.29084984e+01,\n",
       "       5.61432120e-01, 6.46244888e+00, 4.99154827e+00, 4.37816454e-02,\n",
       "       9.86245160e+00, 1.98109885e+01, 1.51411812e+01, 6.68836464e+00,\n",
       "       2.96472673e+01, 2.31232578e+00, 8.41280167e+00, 1.90232929e+00,\n",
       "       8.41866477e+00, 2.69692144e+00, 6.37830692e-01, 1.44760878e+01,\n",
       "       1.45502519e+01, 3.34426070e+00, 7.48271784e+00, 1.59854760e+01,\n",
       "       3.91560066e+01, 1.53257943e+01, 6.68189556e-01, 6.98402202e-01,\n",
       "       5.64565544e+00, 7.21067455e-01, 5.91096011e+00, 2.07112854e+00,\n",
       "       4.23379974e+00, 5.28170849e+00, 1.71878345e+01, 3.88470103e+00,\n",
       "       1.11195188e+00, 6.63171825e+00, 6.55179288e+00, 1.76612343e+00,\n",
       "       5.86444956e+00, 2.27099453e+00, 1.49560352e+01, 1.25710016e+01,\n",
       "       1.21120048e+01, 7.03160428e+00, 7.41619003e-01, 7.63991022e+00,\n",
       "       1.72813936e+00, 1.97687909e+00, 2.66344131e+00, 3.57178435e+00,\n",
       "       2.16647768e+00, 8.43416767e+00, 1.03477340e+01, 2.88409666e+01,\n",
       "       1.34245202e+00, 6.30699682e+00, 1.94893164e+01, 8.45244946e+00,\n",
       "       1.34903752e+00, 6.15293791e+00, 5.11148463e+00, 5.16914669e+00,\n",
       "       5.42609781e-01, 3.74731743e+00, 1.14120394e+01, 2.30412947e+01,\n",
       "       1.02424349e+01, 4.94743925e+00, 6.21902358e+00, 5.84140174e+00,\n",
       "       8.97779164e+00, 1.43047644e+00, 4.94073600e+00, 1.09628602e+01,\n",
       "       3.21560243e+01, 1.95426104e+01, 8.99480779e+00, 4.87997551e+00,\n",
       "       1.45536315e+01, 6.26679454e+00, 2.68623463e+00, 8.33522849e+00,\n",
       "       1.41490804e+00, 2.25205065e+01, 2.87616976e+01, 1.72750374e+00,\n",
       "       5.77013985e+00, 4.40480363e-02, 3.42157344e+00, 3.05299000e+00,\n",
       "       2.39030514e+01, 2.68551293e+01, 1.01921892e+00, 1.02741626e+00,\n",
       "       1.27886578e+00, 2.17276933e+00, 8.10556188e+00, 2.90041619e+01,\n",
       "       1.22498720e+01, 1.57184788e+00, 1.49782457e-01, 3.85351473e+00,\n",
       "       2.17059434e+01, 1.57304766e+01, 5.58688250e-01, 1.51944808e+01,\n",
       "       1.74885895e+01, 8.72256260e+00, 3.47804009e+01, 4.03074265e+00,\n",
       "       9.67973887e+00, 3.60625075e+00, 1.53206660e+01, 7.66216444e+00,\n",
       "       1.69572384e+01, 3.33306224e+00, 2.61309214e+00, 1.53536140e+01,\n",
       "       1.19978966e+00, 1.14499931e+01, 8.24481604e+00, 4.21026070e+00,\n",
       "       4.93494147e+00, 8.19697325e-01, 1.96759199e+01, 9.76451535e-01,\n",
       "       1.49609866e+00, 1.05110929e+01, 3.12183112e+00, 1.17689951e+01,\n",
       "       9.39221047e+00, 2.75728169e+00, 9.09105649e+00, 2.12521137e+01,\n",
       "       1.42652441e+01, 1.81558980e+01, 1.16510344e+00, 4.53578261e+01,\n",
       "       4.28145920e+00, 2.04369141e+00, 4.17133111e+00, 3.09489357e+00,\n",
       "       6.43283333e+00, 1.51797861e+00, 1.93215140e+00, 3.05969598e+00,\n",
       "       1.16277365e+00, 7.07815887e+00, 3.03318594e+00, 7.45309301e+00,\n",
       "       2.01326853e+00, 2.60831534e+01, 9.58614899e+00, 6.12005304e-01,\n",
       "       3.17465750e+01, 7.66849703e+00, 1.93223651e+01, 2.49222379e+01,\n",
       "       6.95077723e+00, 1.22336789e+01, 1.27773609e+01, 6.87058779e-01,\n",
       "       1.78230340e+01, 1.27557901e+01, 1.14340731e+01, 1.37015871e+01,\n",
       "       1.06602398e+01, 4.06637978e-01, 3.76964036e+00, 1.79972369e+00,\n",
       "       4.06265001e+00, 1.02499445e+01, 1.55634910e+01, 5.50131714e+00,\n",
       "       1.78051722e+01, 1.28084540e+01, 4.06547574e+00, 5.23958461e+00,\n",
       "       1.30202294e+00, 6.29005434e+00, 3.29916715e+00, 4.00711169e+00,\n",
       "       4.72538493e+00, 2.82108142e+00, 5.53243699e+00, 3.55099877e-01,\n",
       "       1.16401978e+01, 7.23320460e-01, 4.49796072e+00, 1.79197242e+01,\n",
       "       2.66290221e+00, 3.40479974e+00, 5.50605565e+00, 1.58163278e+01,\n",
       "       3.06684786e+01, 4.11912177e+00, 1.23011164e+01, 8.31475307e-01,\n",
       "       4.26613413e+00, 3.18684916e+01, 1.13961892e+01, 1.67855653e+01,\n",
       "       1.19788984e+01, 1.43291260e+01, 2.73349250e+01, 6.17327859e+00,\n",
       "       1.32090194e+01, 1.06799861e+01, 4.72897678e+00, 2.70384772e+00,\n",
       "       1.20679424e+01, 7.63481590e+00, 1.07757003e+01, 1.63838444e+01,\n",
       "       9.88770612e+00, 1.25230782e+01, 1.54721338e+01, 3.35843912e+00,\n",
       "       9.05491385e+00, 7.85491284e-01, 2.47114804e+00, 2.52862871e+00,\n",
       "       1.88802673e+01, 1.09129701e+00, 2.40569512e-01, 2.17359854e+00,\n",
       "       2.37201687e+01, 3.78156100e+01, 2.37850556e+00, 1.17342387e+01,\n",
       "       2.24044625e+00, 1.46526022e+01, 9.27201009e+00, 2.13083646e+00,\n",
       "       8.17428860e+00, 1.00468475e+01, 8.75962967e-01, 5.75075983e+00,\n",
       "       2.67103263e+00, 1.11340938e+01, 2.07567646e+00, 1.28289522e+01,\n",
       "       5.25142289e+00, 1.65360612e+01, 3.18850615e+00, 3.46778864e+00,\n",
       "       5.39175231e+00, 8.51980701e+00, 2.97262004e+00, 1.51266177e+00,\n",
       "       8.67452387e-01, 4.81052216e+00, 1.01681637e+01, 5.21986071e-01,\n",
       "       2.09723756e-01, 2.86683865e+01, 5.09374397e+00, 1.57749761e+00,\n",
       "       3.85607055e+01, 1.34319627e+01, 1.29208087e+00, 5.74518473e+00,\n",
       "       1.88331938e+00, 2.41741447e+00, 2.49801850e+01, 2.67199445e+00,\n",
       "       5.34422534e+00, 1.21329242e+00, 7.78068201e+01, 6.67201124e-01,\n",
       "       1.85125053e+00, 1.59617894e+01, 1.71435713e+01, 1.14083953e+00,\n",
       "       2.93366231e-02, 2.55648285e+00, 4.63293786e+00, 2.95569540e+01,\n",
       "       1.20204000e+01, 3.31793471e+00, 7.78784030e+00, 8.03315087e+00,\n",
       "       4.81794634e+00, 1.14123065e+01, 3.23846899e-01, 4.48098682e-01,\n",
       "       1.05485071e+01, 5.93582373e+00, 2.01423674e+01, 3.80404729e+01,\n",
       "       1.96261239e+01, 3.26175880e+00, 7.79204588e+00, 9.74334920e+00,\n",
       "       1.03795450e+00, 1.43887389e+01, 1.41579410e+00, 6.76404938e+00,\n",
       "       1.89618537e+01, 5.19556793e-01, 1.54858368e+01, 1.45349640e+00,\n",
       "       8.72329264e+00, 2.61797297e+01, 5.85528216e+00, 6.84261728e+00,\n",
       "       1.93208106e+01, 1.96017869e+00, 7.51227296e+00, 3.25936412e+00,\n",
       "       1.01505737e+01, 2.29650914e+00, 1.08663785e+00, 1.12048691e+01,\n",
       "       9.46536331e+00, 8.81204196e-01, 8.39418570e-01, 1.07526547e+01,\n",
       "       3.38749843e+00, 5.11376660e+01, 8.23486376e+00, 9.96411661e+00,\n",
       "       3.13171338e+01, 2.24087020e-01, 2.08932571e+01, 4.97454359e+01,\n",
       "       4.34635486e-01, 1.11577466e+01, 5.85554770e+00, 4.85972855e+00,\n",
       "       5.83606403e+00, 2.19884390e+01, 5.14672354e-01, 1.08414622e+01,\n",
       "       3.14467584e+01, 6.82928431e-01, 5.42077814e+00, 1.19413488e+00,\n",
       "       2.14857702e+01, 1.25799354e+01, 2.93901830e+00, 6.94963944e+00,\n",
       "       1.53856270e+01, 3.64246783e+00, 1.09089128e+01, 1.51097841e+01,\n",
       "       7.94369099e+00, 9.07369328e-01, 1.99143615e+01, 6.15409287e+00,\n",
       "       2.87829336e+00, 5.19746198e-01, 3.64467718e+00, 6.25904613e+00,\n",
       "       6.30250822e+00, 1.72580288e+01, 1.77491885e+01, 1.05962667e+01,\n",
       "       1.17594558e+01, 6.10444673e+00, 1.02395640e+01, 1.61874942e+01,\n",
       "       8.75675810e+00, 1.13292792e+01, 4.22514240e+00, 3.23776248e+01,\n",
       "       1.58386831e+01, 5.90100050e+00, 4.03964266e+00, 8.61380786e+00,\n",
       "       7.15274688e+00, 2.28424473e+00, 1.81926390e+00, 1.56114959e+01,\n",
       "       1.22535049e+00, 1.04194153e+01, 1.47808960e+01, 3.38489194e+00,\n",
       "       6.94478936e+00, 7.56171855e+00, 2.98797459e-01, 2.46120523e+00,\n",
       "       8.56202082e-01, 1.65191544e+01, 9.54492521e+00, 1.53122062e+01,\n",
       "       3.76777410e+00, 1.46991290e+00, 1.06606415e+01, 5.53218286e+00,\n",
       "       3.09207852e+01, 1.11396776e+01, 4.69441412e+00, 3.88355876e+00,\n",
       "       1.09378483e+01, 4.54271508e+00, 4.79479179e+00, 7.70581138e+00,\n",
       "       7.91148158e+00, 4.90008383e+00, 1.34388074e+01, 9.31912947e+00,\n",
       "       6.45164694e+01, 7.72155585e+00, 4.03543439e+00, 1.91946062e+00,\n",
       "       8.43131999e+00, 1.80700765e+01, 7.70694406e+00, 7.50932676e+00,\n",
       "       1.34563196e+00, 7.37344706e+00, 3.25249862e+00, 3.07582229e+01,\n",
       "       2.51542626e+00, 5.75392053e+00, 5.74529454e-01, 7.91715357e+00,\n",
       "       1.15412039e+00, 1.56348033e+01, 1.03350787e+01, 2.27098092e+01,\n",
       "       1.90652467e+00, 5.04841417e+00, 9.40193506e+00, 1.21372274e+01,\n",
       "       1.01404406e+01, 7.46061300e+00, 2.92626317e+00, 1.41789426e+00,\n",
       "       4.01394945e+00, 6.42866511e+00, 9.74359111e+00, 8.52308804e-01,\n",
       "       1.46085336e+01, 8.17423656e+00, 2.02882727e+01, 3.40070913e+00,\n",
       "       2.49944952e+00, 8.75341911e+00, 2.74409836e+00, 2.35614458e+00,\n",
       "       1.59139191e+00, 3.37906235e+00, 1.01837924e+01, 2.55645921e+00,\n",
       "       4.35891268e+00, 6.50717774e+00, 3.38518210e+01, 9.68968020e-01,\n",
       "       2.91790980e+01, 3.42931718e+01, 9.36303046e+00, 3.28451318e+00,\n",
       "       1.91104421e+00, 4.08031019e+00, 5.52673541e+00, 1.17508341e+00,\n",
       "       3.92894579e-01, 1.31166877e+01, 1.58583282e+01, 5.54097533e+00,\n",
       "       4.68586671e+00, 8.07341307e+00, 6.85275698e+00, 6.17620466e+00,\n",
       "       5.64433334e+00, 2.21244110e+00, 1.03243231e+01, 1.34268709e+01,\n",
       "       5.99144878e+00, 1.46050692e+00, 1.57471546e-01, 1.61033987e+01,\n",
       "       1.52043421e+01, 1.08164009e+00, 2.52782363e-01, 2.72449036e+00,\n",
       "       1.49721543e+01, 1.84455091e+00, 1.58730324e+01, 1.92682967e+00,\n",
       "       1.91730779e+01, 1.75647479e+01, 1.56228925e+01, 1.96502797e+00,\n",
       "       1.45014557e+01, 5.14524845e-01, 3.87978935e+00, 2.05465503e+01,\n",
       "       1.54694171e+01, 1.24413094e+01, 8.14486043e+00, 2.34899442e+00,\n",
       "       1.50136571e+01, 6.40728523e-01, 7.59053687e+00, 6.89100251e+00,\n",
       "       7.46559906e+00, 1.79635546e+01, 1.33676914e+01, 4.68336065e+00,\n",
       "       1.15119621e+01, 6.76334842e+00, 8.08616275e+00, 1.78657751e+01,\n",
       "       7.08511130e+00, 2.28129565e+00, 1.88935924e+01, 3.93750850e+00,\n",
       "       1.42257444e+01, 2.30256947e+00, 2.83816866e+00, 1.10599715e+01,\n",
       "       1.93867196e+00, 1.11846929e+01, 8.86534491e-01, 1.28013893e+01,\n",
       "       9.46096821e+00, 3.87437637e+00, 3.45117186e+00, 1.97297417e+00,\n",
       "       5.06023815e-01, 2.44770330e+01, 3.30683219e+00, 2.78020502e+01,\n",
       "       6.33688080e+00, 2.55663837e+00, 9.00181674e+00, 5.26210400e+00,\n",
       "       1.16752905e+01, 5.80400746e+00, 2.17012819e+00, 2.81388455e+00,\n",
       "       7.20946917e+00, 1.25143200e+00, 3.77327753e-02, 2.23661344e+01,\n",
       "       8.70379837e+00, 1.64096436e+01, 1.37980535e+01, 1.19184193e+01,\n",
       "       1.42503750e+01, 3.92557883e+00, 4.25423712e+00, 1.90795054e+00,\n",
       "       3.05798951e+00, 2.27082332e+01, 2.83060232e+00, 1.25195290e+01,\n",
       "       1.08739665e+01, 1.06966882e+01, 1.15231197e+01, 7.16647437e-01,\n",
       "       7.93689060e+00, 4.66396212e+00, 1.56354801e+01, 6.93572206e-02,\n",
       "       5.91404964e+00, 6.13727290e+00, 1.75529997e+01, 6.85701382e-01,\n",
       "       4.63027307e+00, 3.28963860e+01, 1.72131491e+01, 2.85073450e+00,\n",
       "       2.57260483e+01, 1.15618735e+01, 5.36620113e+00, 1.18441544e+01,\n",
       "       3.55722150e+00, 1.07196867e+00, 2.35190232e+01, 2.37662533e+00,\n",
       "       3.26536208e+01, 1.60996094e+01, 1.54948937e+01, 9.25735164e+00,\n",
       "       5.81379318e+00, 3.70684180e+00, 2.40478318e-01, 6.59686504e+00,\n",
       "       3.93568985e+01, 2.11071835e+01, 2.33173758e+00, 1.49530965e+01,\n",
       "       1.56537276e+01, 4.11505537e+00, 9.24699289e+00, 1.16692392e+01,\n",
       "       3.48360293e+00, 1.06942587e+01, 4.70543788e+00, 2.90003491e+00,\n",
       "       7.36202501e+00, 1.49028947e+01, 1.52267601e+01, 4.06692527e+00,\n",
       "       7.99196816e+00, 5.32783777e+00, 1.60398975e+01, 8.21185293e+00,\n",
       "       5.22246995e+00, 7.56194689e-01, 3.53285783e+01, 2.02376999e+00,\n",
       "       1.61342980e+01, 3.80978841e+00, 2.78852556e+00, 4.89602044e+01,\n",
       "       1.80918140e+01, 1.63632753e-01, 4.90901089e+00, 1.28724411e+01,\n",
       "       1.13829215e+00, 8.95532494e+00, 1.29867869e+01, 1.24392363e+01,\n",
       "       1.15750991e+01, 2.10340121e+00, 1.02726486e+01, 2.20787236e+00,\n",
       "       1.69295923e+01, 1.10245315e+01, 1.86551520e+01, 1.13086115e+01,\n",
       "       1.98032945e+01, 6.31481107e+00, 2.16634304e+00, 1.16434613e+01,\n",
       "       8.63227146e+00, 2.62641737e+01, 8.40792254e+00, 2.49157900e+00,\n",
       "       3.19438468e+00, 2.61009035e+00, 4.58725047e+01, 2.73754910e+00,\n",
       "       1.42590293e+01, 1.51663968e+01, 3.71080070e-01, 3.07025306e+01,\n",
       "       2.66621663e+01, 5.48276574e+00, 3.66042034e+01, 3.64930063e+01,\n",
       "       7.55336426e-01, 1.23313331e+01, 1.53236226e+00, 1.90298825e+01,\n",
       "       1.69432450e+01, 1.52911306e-01, 1.11351823e+00, 3.29569894e+00,\n",
       "       2.50037207e+01, 1.44438356e+01, 1.04580694e+00, 1.59575400e+01,\n",
       "       2.01087265e+01, 1.14599394e+01, 4.30149459e+01, 1.16862934e+01,\n",
       "       2.04696340e+00, 3.14401587e+00, 4.67799782e-01, 1.23701207e+01,\n",
       "       6.44853307e+00, 1.18326982e+01, 2.26748703e-02, 1.28310380e+01,\n",
       "       1.78019535e+00, 9.65641269e-01, 3.54935720e+00, 8.61673835e-02,\n",
       "       2.54158543e+01, 3.24476819e+00, 1.91096970e+00, 1.30232230e+00,\n",
       "       7.78682584e+00, 3.05757351e+00, 1.66290869e+01, 6.15213228e+00,\n",
       "       1.72840831e+00, 4.58568363e+00, 7.65757227e+00, 9.01501756e+00,\n",
       "       9.48046584e+00, 8.73395541e-03, 1.28363805e+01, 8.58818144e+00,\n",
       "       2.08092805e+00, 1.42393124e+01, 1.61317156e+01, 8.36250065e+00,\n",
       "       1.68160750e+00, 2.03638849e+01, 4.75835710e+00, 4.19509148e+00,\n",
       "       2.87618097e+00, 1.03155736e+01, 5.88151700e+00, 8.37902032e-01,\n",
       "       1.30985421e+01, 4.79386943e+00, 1.71917783e+01, 1.11237878e+01,\n",
       "       2.01229480e+01, 7.62579325e+00, 6.87672051e+00, 2.64013814e+00,\n",
       "       6.57345651e-01, 1.89956879e+01, 8.28699080e+00, 1.02223682e+01,\n",
       "       3.75952913e+00, 1.38465346e+01, 3.19597515e+01, 2.68831971e+01,\n",
       "       1.59613017e+00, 1.37289056e+01, 7.66039334e+00, 5.36158692e+00,\n",
       "       2.53098482e+00, 1.17413079e+01, 1.36402318e+00, 9.09696083e+00,\n",
       "       9.25653157e-01, 2.07688105e+01, 4.64303671e+00, 7.58941068e-01,\n",
       "       7.56825384e-01, 7.35743716e+00, 1.88562722e+01, 1.80363627e+01,\n",
       "       2.77942347e+01, 1.45417612e+01, 1.77217614e+01, 3.18254071e+00,\n",
       "       1.93214605e+00, 7.51699534e+00, 4.50199457e+00, 3.14255226e+00,\n",
       "       2.41565311e+01, 2.00568327e+01, 8.07794933e+00, 4.59394274e+00,\n",
       "       1.18185944e+01, 1.77058784e+01, 2.41558770e+00, 1.25515196e+01,\n",
       "       1.14216845e+00, 6.26208993e+00, 7.40076200e-01, 5.47218177e+00,\n",
       "       1.26783264e+00, 4.87463155e+00, 8.28505830e+00, 3.09958502e+00,\n",
       "       3.24584993e+00, 2.17248823e+01, 9.98903062e-01, 9.17293813e+00,\n",
       "       1.50639439e+01, 1.84638045e+01, 1.59599569e+01, 3.13119333e+00,\n",
       "       2.13355987e+00, 5.38023045e+00, 7.03161181e+00, 5.53506441e+00,\n",
       "       1.11018019e+01, 3.48955716e+01, 2.90010331e+01, 9.16522179e+00,\n",
       "       2.57297733e+01, 1.96256482e+00, 1.46613040e+01, 1.98772146e+01,\n",
       "       6.32834030e+00, 1.37288965e+00, 1.95633229e+00, 9.05278818e+00,\n",
       "       5.05703168e-01, 2.59295702e+01, 3.14754628e+01, 2.60544679e+01,\n",
       "       2.01205091e+01, 5.86732542e+00, 6.22496609e+00, 3.39525908e+00,\n",
       "       5.52424342e+00, 9.46437613e-01, 9.14199518e+00, 1.32910639e+01,\n",
       "       1.66164433e+01, 9.01314499e+00, 1.87682903e+00, 1.33747242e+01,\n",
       "       1.41470406e+00, 6.58318121e+00, 4.84758540e+00, 1.46271125e+01,\n",
       "       1.21437468e+01, 1.89921970e+01, 9.16363710e+00, 7.81528602e+00,\n",
       "       9.60001131e+00, 4.98838263e+00, 8.34511505e+00, 1.01202539e-01,\n",
       "       1.03007241e+01, 5.48150321e+01, 3.64304564e+00, 4.79841171e+00,\n",
       "       1.26818545e+01, 7.60352506e-01, 3.14921659e+01, 8.57802571e-01,\n",
       "       2.77366957e+00, 2.67054348e+00, 2.73531893e+01, 1.80931187e+00])"
      ]
     },
     "execution_count": 34,
     "metadata": {},
     "output_type": "execute_result"
    }
   ],
   "source": [
    "# your answer here\n",
    "# Hint: This is same as saying P(x<15)\n",
    "\n",
    "#y = 1/10 \n",
    "\n",
    "y_bank = numpy_random_exponential (10, 1000)\n",
    "y_bank"
   ]
  },
  {
   "cell_type": "code",
   "execution_count": 35,
   "metadata": {},
   "outputs": [
    {
     "ename": "NameError",
     "evalue": "name 'exp' is not defined",
     "output_type": "error",
     "traceback": [
      "\u001b[0;31m---------------------------------------------------------------------------\u001b[0m",
      "\u001b[0;31mNameError\u001b[0m                                 Traceback (most recent call last)",
      "\u001b[0;32m<ipython-input-35-ae4e8984f6c1>\u001b[0m in \u001b[0;36m<module>\u001b[0;34m\u001b[0m\n\u001b[1;32m      9\u001b[0m \u001b[0;34m\u001b[0m\u001b[0m\n\u001b[1;32m     10\u001b[0m \u001b[0;31m#print(\"exp.pdf: \", exp.pdf(15))\u001b[0m\u001b[0;34m\u001b[0m\u001b[0;34m\u001b[0m\u001b[0;34m\u001b[0m\u001b[0m\n\u001b[0;32m---> 11\u001b[0;31m \u001b[0mprint\u001b[0m\u001b[0;34m(\u001b[0m\u001b[0;34m\"The change that someone stays les the 15 min in the bank is: exp.cdf:15\"\u001b[0m\u001b[0;34m,\u001b[0m \u001b[0mexp\u001b[0m\u001b[0;34m.\u001b[0m\u001b[0mcdf\u001b[0m\u001b[0;34m(\u001b[0m\u001b[0;36m15\u001b[0m\u001b[0;34m)\u001b[0m\u001b[0;34m)\u001b[0m\u001b[0;34m\u001b[0m\u001b[0;34m\u001b[0m\u001b[0m\n\u001b[0m\u001b[1;32m     12\u001b[0m \u001b[0;31m#print(\"exp.rvs: \", exp.rvs())\u001b[0m\u001b[0;34m\u001b[0m\u001b[0;34m\u001b[0m\u001b[0;34m\u001b[0m\u001b[0m\n",
      "\u001b[0;31mNameError\u001b[0m: name 'exp' is not defined"
     ]
    }
   ],
   "source": [
    "'''\n",
    "L.S. Does not work. \n",
    "'''\n",
    "\n",
    "\"\"\"fig3, set_7 = plt.subplots(1,1)\n",
    "\n",
    "set_7.hist(numpy_random_exponential (10, 1000), bins=100)\n",
    "set_7.set_title('bank waiting time')   \n",
    "set_7.set_xlabel('x label')     \n",
    "set_7.set_ylabel('y label')\n",
    "\n",
    "plt.show()\"\"\"\n",
    "\n",
    "#print(\"exp.pdf: \", exp.pdf(15))\n",
    "print(\"The change that someone stays les the 15 min in the bank is: exp.cdf:15\", exp.cdf(15))    \n",
    "#print(\"exp.rvs: \", exp.rvs())"
   ]
  },
  {
   "cell_type": "markdown",
   "metadata": {},
   "source": [
    "What is the probability that the customer will spend more than 15 minutes"
   ]
  },
  {
   "cell_type": "code",
   "execution_count": 36,
   "metadata": {},
   "outputs": [
    {
     "ename": "NameError",
     "evalue": "name 'exp' is not defined",
     "output_type": "error",
     "traceback": [
      "\u001b[0;31m---------------------------------------------------------------------------\u001b[0m",
      "\u001b[0;31mNameError\u001b[0m                                 Traceback (most recent call last)",
      "\u001b[0;32m<ipython-input-36-b105e2cc8ba8>\u001b[0m in \u001b[0;36m<module>\u001b[0;34m\u001b[0m\n\u001b[1;32m      1\u001b[0m \u001b[0;31m# your answer here\u001b[0m\u001b[0;34m\u001b[0m\u001b[0;34m\u001b[0m\u001b[0;34m\u001b[0m\u001b[0m\n\u001b[0;32m----> 2\u001b[0;31m \u001b[0mprint\u001b[0m\u001b[0;34m(\u001b[0m\u001b[0;34m\"The change that someone stays more the 15 min in the bank is: 1 - exp.cdf:15\"\u001b[0m\u001b[0;34m,\u001b[0m \u001b[0;34m(\u001b[0m\u001b[0;36m1\u001b[0m\u001b[0;34m-\u001b[0m\u001b[0mexp\u001b[0m\u001b[0;34m.\u001b[0m\u001b[0mcdf\u001b[0m\u001b[0;34m(\u001b[0m\u001b[0;36m15\u001b[0m\u001b[0;34m)\u001b[0m\u001b[0;34m)\u001b[0m\u001b[0;34m)\u001b[0m\u001b[0;34m\u001b[0m\u001b[0;34m\u001b[0m\u001b[0m\n\u001b[0m",
      "\u001b[0;31mNameError\u001b[0m: name 'exp' is not defined"
     ]
    }
   ],
   "source": [
    "# your answer here\n",
    "print(\"The change that someone stays more the 15 min in the bank is: 1 - exp.cdf:15\", (1-exp.cdf(15)))  "
   ]
  },
  {
   "cell_type": "code",
   "execution_count": null,
   "metadata": {},
   "outputs": [],
   "source": []
  }
 ],
 "metadata": {
  "kernelspec": {
   "display_name": "Python 3",
   "language": "python",
   "name": "python3"
  },
  "language_info": {
   "codemirror_mode": {
    "name": "ipython",
    "version": 3
   },
   "file_extension": ".py",
   "mimetype": "text/x-python",
   "name": "python",
   "nbconvert_exporter": "python",
   "pygments_lexer": "ipython3",
   "version": "3.6.7"
  }
 },
 "nbformat": 4,
 "nbformat_minor": 2
}
